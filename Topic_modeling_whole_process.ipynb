{
 "cells": [
  {
   "cell_type": "markdown",
   "id": "cdb13d71",
   "metadata": {},
   "source": [
    "<h1 style=\"text-align: center;\">TOPIC MODELING FOR HACK MY ROBOT USING BERTopic</h1>\n",
    "\n",
    "This notebook presents the topic modeling process employed to analyze data from past Hack My Robot (HMR) competitions. The dataset, stored in the **\"Responses.xlsx\"** file, contains all the data gathered from the previous editions of HMR and should be updated following each new edition of the competition. After updating the dataset, all following cells should be run until the **\"Topic modeling and screening\"** section. Starting from this section, there are manual interventions, such as merging similar topics and removing irrelevant topics. Therefore, the cells from this point should be run one by one, making the necessary changes.       "
   ]
  },
  {
   "cell_type": "code",
   "execution_count": 2,
   "id": "cb333aba",
   "metadata": {
    "collapsed": true
   },
   "outputs": [
    {
     "name": "stdout",
     "output_type": "stream",
     "text": [
      "Requirement already satisfied: pandas in c:\\users\\semih\\anaconda3\\lib\\site-packages (2.1.4)\n",
      "Requirement already satisfied: matplotlib in c:\\users\\semih\\anaconda3\\lib\\site-packages (3.8.0)\n",
      "Requirement already satisfied: spacy in c:\\users\\semih\\anaconda3\\lib\\site-packages (3.7.4)\n",
      "Requirement already satisfied: bertopic in c:\\users\\semih\\anaconda3\\lib\\site-packages (0.16.1)\n",
      "Requirement already satisfied: scikit-learn in c:\\users\\semih\\anaconda3\\lib\\site-packages (1.2.2)\n",
      "Requirement already satisfied: gensim in c:\\users\\semih\\anaconda3\\lib\\site-packages (4.3.0)\n",
      "Requirement already satisfied: umap-learn in c:\\users\\semih\\anaconda3\\lib\\site-packages (0.5.6)\n",
      "Requirement already satisfied: hdbscan in c:\\users\\semih\\anaconda3\\lib\\site-packages (0.8.33)\n",
      "Requirement already satisfied: openai in c:\\users\\semih\\anaconda3\\lib\\site-packages (1.24.0)\n",
      "Requirement already satisfied: tiktoken in c:\\users\\semih\\anaconda3\\lib\\site-packages (0.6.0)\n",
      "Requirement already satisfied: nltk in c:\\users\\semih\\anaconda3\\lib\\site-packages (3.8.1)\n",
      "Requirement already satisfied: sentence-transformers in c:\\users\\semih\\anaconda3\\lib\\site-packages (2.7.0)\n",
      "Requirement already satisfied: numpy in c:\\users\\semih\\anaconda3\\lib\\site-packages (1.26.4)\n",
      "Requirement already satisfied: python-dateutil>=2.8.2 in c:\\users\\semih\\appdata\\roaming\\python\\python311\\site-packages (from pandas) (2.8.2)\n",
      "Requirement already satisfied: pytz>=2020.1 in c:\\users\\semih\\anaconda3\\lib\\site-packages (from pandas) (2023.3.post1)\n",
      "Requirement already satisfied: tzdata>=2022.1 in c:\\users\\semih\\anaconda3\\lib\\site-packages (from pandas) (2023.3)\n",
      "Requirement already satisfied: contourpy>=1.0.1 in c:\\users\\semih\\anaconda3\\lib\\site-packages (from matplotlib) (1.2.0)\n",
      "Requirement already satisfied: cycler>=0.10 in c:\\users\\semih\\anaconda3\\lib\\site-packages (from matplotlib) (0.11.0)\n",
      "Requirement already satisfied: fonttools>=4.22.0 in c:\\users\\semih\\anaconda3\\lib\\site-packages (from matplotlib) (4.25.0)\n",
      "Requirement already satisfied: kiwisolver>=1.0.1 in c:\\users\\semih\\anaconda3\\lib\\site-packages (from matplotlib) (1.4.4)\n",
      "Requirement already satisfied: packaging>=20.0 in c:\\users\\semih\\appdata\\roaming\\python\\python311\\site-packages (from matplotlib) (21.3)\n",
      "Requirement already satisfied: pillow>=6.2.0 in c:\\users\\semih\\anaconda3\\lib\\site-packages (from matplotlib) (10.2.0)\n",
      "Requirement already satisfied: pyparsing>=2.3.1 in c:\\users\\semih\\appdata\\roaming\\python\\python311\\site-packages (from matplotlib) (3.0.9)\n",
      "Requirement already satisfied: spacy-legacy<3.1.0,>=3.0.11 in c:\\users\\semih\\anaconda3\\lib\\site-packages (from spacy) (3.0.12)\n",
      "Requirement already satisfied: spacy-loggers<2.0.0,>=1.0.0 in c:\\users\\semih\\anaconda3\\lib\\site-packages (from spacy) (1.0.5)\n",
      "Requirement already satisfied: murmurhash<1.1.0,>=0.28.0 in c:\\users\\semih\\anaconda3\\lib\\site-packages (from spacy) (1.0.10)\n",
      "Requirement already satisfied: cymem<2.1.0,>=2.0.2 in c:\\users\\semih\\anaconda3\\lib\\site-packages (from spacy) (2.0.8)\n",
      "Requirement already satisfied: preshed<3.1.0,>=3.0.2 in c:\\users\\semih\\anaconda3\\lib\\site-packages (from spacy) (3.0.9)\n",
      "Requirement already satisfied: thinc<8.3.0,>=8.2.2 in c:\\users\\semih\\anaconda3\\lib\\site-packages (from spacy) (8.2.3)\n",
      "Requirement already satisfied: wasabi<1.2.0,>=0.9.1 in c:\\users\\semih\\anaconda3\\lib\\site-packages (from spacy) (1.1.2)\n",
      "Requirement already satisfied: srsly<3.0.0,>=2.4.3 in c:\\users\\semih\\anaconda3\\lib\\site-packages (from spacy) (2.4.8)\n",
      "Requirement already satisfied: catalogue<2.1.0,>=2.0.6 in c:\\users\\semih\\anaconda3\\lib\\site-packages (from spacy) (2.0.10)\n",
      "Requirement already satisfied: weasel<0.4.0,>=0.1.0 in c:\\users\\semih\\anaconda3\\lib\\site-packages (from spacy) (0.3.4)\n",
      "Requirement already satisfied: typer<0.10.0,>=0.3.0 in c:\\users\\semih\\anaconda3\\lib\\site-packages (from spacy) (0.9.4)\n",
      "Requirement already satisfied: smart-open<7.0.0,>=5.2.1 in c:\\users\\semih\\anaconda3\\lib\\site-packages (from spacy) (5.2.1)\n",
      "Requirement already satisfied: tqdm<5.0.0,>=4.38.0 in c:\\users\\semih\\anaconda3\\lib\\site-packages (from spacy) (4.65.0)\n",
      "Requirement already satisfied: requests<3.0.0,>=2.13.0 in c:\\users\\semih\\anaconda3\\lib\\site-packages (from spacy) (2.31.0)\n",
      "Requirement already satisfied: pydantic!=1.8,!=1.8.1,<3.0.0,>=1.7.4 in c:\\users\\semih\\anaconda3\\lib\\site-packages (from spacy) (1.10.12)\n",
      "Requirement already satisfied: jinja2 in c:\\users\\semih\\anaconda3\\lib\\site-packages (from spacy) (3.1.3)\n",
      "Requirement already satisfied: setuptools in c:\\users\\semih\\anaconda3\\lib\\site-packages (from spacy) (68.2.2)\n",
      "Requirement already satisfied: langcodes<4.0.0,>=3.2.0 in c:\\users\\semih\\anaconda3\\lib\\site-packages (from spacy) (3.4.0)\n",
      "Requirement already satisfied: plotly>=4.7.0 in c:\\users\\semih\\anaconda3\\lib\\site-packages (from bertopic) (5.9.0)\n",
      "Requirement already satisfied: scipy>=1.3.2 in c:\\users\\semih\\anaconda3\\lib\\site-packages (from scikit-learn) (1.11.4)\n",
      "Requirement already satisfied: joblib>=1.1.1 in c:\\users\\semih\\anaconda3\\lib\\site-packages (from scikit-learn) (1.2.0)\n",
      "Requirement already satisfied: threadpoolctl>=2.0.0 in c:\\users\\semih\\anaconda3\\lib\\site-packages (from scikit-learn) (2.2.0)\n",
      "Collecting FuzzyTM>=0.4.0 (from gensim)\n",
      "  Downloading FuzzyTM-2.0.9-py3-none-any.whl.metadata (7.9 kB)\n",
      "Requirement already satisfied: numba>=0.51.2 in c:\\users\\semih\\anaconda3\\lib\\site-packages (from umap-learn) (0.59.1)\n",
      "Requirement already satisfied: pynndescent>=0.5 in c:\\users\\semih\\anaconda3\\lib\\site-packages (from umap-learn) (0.5.12)\n",
      "Requirement already satisfied: cython<3,>=0.27 in c:\\users\\semih\\anaconda3\\lib\\site-packages (from hdbscan) (0.29.37)\n",
      "Requirement already satisfied: anyio<5,>=3.5.0 in c:\\users\\semih\\anaconda3\\lib\\site-packages (from openai) (3.5.0)\n",
      "Requirement already satisfied: distro<2,>=1.7.0 in c:\\users\\semih\\anaconda3\\lib\\site-packages (from openai) (1.8.0)\n",
      "Requirement already satisfied: httpx<1,>=0.23.0 in c:\\users\\semih\\anaconda3\\lib\\site-packages (from openai) (0.26.0)\n",
      "Requirement already satisfied: sniffio in c:\\users\\semih\\anaconda3\\lib\\site-packages (from openai) (1.3.0)\n",
      "Requirement already satisfied: typing-extensions<5,>=4.7 in c:\\users\\semih\\anaconda3\\lib\\site-packages (from openai) (4.9.0)\n",
      "Requirement already satisfied: regex>=2022.1.18 in c:\\users\\semih\\anaconda3\\lib\\site-packages (from tiktoken) (2023.10.3)\n",
      "Requirement already satisfied: click in c:\\users\\semih\\anaconda3\\lib\\site-packages (from nltk) (8.1.7)\n",
      "Requirement already satisfied: transformers<5.0.0,>=4.34.0 in c:\\users\\semih\\anaconda3\\lib\\site-packages (from sentence-transformers) (4.40.0)\n",
      "Requirement already satisfied: torch>=1.11.0 in c:\\users\\semih\\anaconda3\\lib\\site-packages (from sentence-transformers) (2.2.2)\n",
      "Requirement already satisfied: huggingface-hub>=0.15.1 in c:\\users\\semih\\anaconda3\\lib\\site-packages (from sentence-transformers) (0.22.2)\n",
      "Requirement already satisfied: idna>=2.8 in c:\\users\\semih\\anaconda3\\lib\\site-packages (from anyio<5,>=3.5.0->openai) (3.4)\n",
      "Collecting pyfume (from FuzzyTM>=0.4.0->gensim)\n",
      "  Downloading pyFUME-0.3.1-py3-none-any.whl.metadata (9.7 kB)\n",
      "Requirement already satisfied: certifi in c:\\users\\semih\\anaconda3\\lib\\site-packages (from httpx<1,>=0.23.0->openai) (2024.2.2)\n",
      "Requirement already satisfied: httpcore==1.* in c:\\users\\semih\\anaconda3\\lib\\site-packages (from httpx<1,>=0.23.0->openai) (1.0.2)\n",
      "Requirement already satisfied: h11<0.15,>=0.13 in c:\\users\\semih\\anaconda3\\lib\\site-packages (from httpcore==1.*->httpx<1,>=0.23.0->openai) (0.14.0)\n",
      "Requirement already satisfied: filelock in c:\\users\\semih\\anaconda3\\lib\\site-packages (from huggingface-hub>=0.15.1->sentence-transformers) (3.13.1)\n",
      "Requirement already satisfied: fsspec>=2023.5.0 in c:\\users\\semih\\anaconda3\\lib\\site-packages (from huggingface-hub>=0.15.1->sentence-transformers) (2023.10.0)\n",
      "Requirement already satisfied: pyyaml>=5.1 in c:\\users\\semih\\anaconda3\\lib\\site-packages (from huggingface-hub>=0.15.1->sentence-transformers) (6.0.1)\n",
      "Requirement already satisfied: language-data>=1.2 in c:\\users\\semih\\anaconda3\\lib\\site-packages (from langcodes<4.0.0,>=3.2.0->spacy) (1.2.0)\n",
      "Requirement already satisfied: llvmlite<0.43,>=0.42.0dev0 in c:\\users\\semih\\anaconda3\\lib\\site-packages (from numba>=0.51.2->umap-learn) (0.42.0)\n",
      "Requirement already satisfied: tenacity>=6.2.0 in c:\\users\\semih\\anaconda3\\lib\\site-packages (from plotly>=4.7.0->bertopic) (8.2.2)\n",
      "Requirement already satisfied: six>=1.5 in c:\\users\\semih\\appdata\\roaming\\python\\python311\\site-packages (from python-dateutil>=2.8.2->pandas) (1.16.0)\n",
      "Requirement already satisfied: charset-normalizer<4,>=2 in c:\\users\\semih\\anaconda3\\lib\\site-packages (from requests<3.0.0,>=2.13.0->spacy) (2.0.4)\n",
      "Requirement already satisfied: urllib3<3,>=1.21.1 in c:\\users\\semih\\anaconda3\\lib\\site-packages (from requests<3.0.0,>=2.13.0->spacy) (2.0.7)\n",
      "Requirement already satisfied: blis<0.8.0,>=0.7.8 in c:\\users\\semih\\anaconda3\\lib\\site-packages (from thinc<8.3.0,>=8.2.2->spacy) (0.7.11)\n",
      "Requirement already satisfied: confection<1.0.0,>=0.0.1 in c:\\users\\semih\\anaconda3\\lib\\site-packages (from thinc<8.3.0,>=8.2.2->spacy) (0.1.4)\n",
      "Requirement already satisfied: sympy in c:\\users\\semih\\anaconda3\\lib\\site-packages (from torch>=1.11.0->sentence-transformers) (1.12)\n",
      "Requirement already satisfied: networkx in c:\\users\\semih\\anaconda3\\lib\\site-packages (from torch>=1.11.0->sentence-transformers) (3.1)\n",
      "Requirement already satisfied: colorama in c:\\users\\semih\\appdata\\roaming\\python\\python311\\site-packages (from tqdm<5.0.0,>=4.38.0->spacy) (0.4.6)\n",
      "Requirement already satisfied: tokenizers<0.20,>=0.19 in c:\\users\\semih\\anaconda3\\lib\\site-packages (from transformers<5.0.0,>=4.34.0->sentence-transformers) (0.19.1)\n",
      "Requirement already satisfied: safetensors>=0.4.1 in c:\\users\\semih\\anaconda3\\lib\\site-packages (from transformers<5.0.0,>=4.34.0->sentence-transformers) (0.4.3)\n",
      "Requirement already satisfied: cloudpathlib<0.17.0,>=0.7.0 in c:\\users\\semih\\anaconda3\\lib\\site-packages (from weasel<0.4.0,>=0.1.0->spacy) (0.16.0)\n",
      "Requirement already satisfied: MarkupSafe>=2.0 in c:\\users\\semih\\anaconda3\\lib\\site-packages (from jinja2->spacy) (2.1.3)\n",
      "Requirement already satisfied: marisa-trie>=0.7.7 in c:\\users\\semih\\anaconda3\\lib\\site-packages (from language-data>=1.2->langcodes<4.0.0,>=3.2.0->spacy) (1.1.0)\n",
      "Collecting simpful (from pyfume->FuzzyTM>=0.4.0->gensim)\n",
      "  Downloading simpful-2.12.0-py3-none-any.whl.metadata (4.8 kB)\n",
      "Collecting fst-pso (from pyfume->FuzzyTM>=0.4.0->gensim)\n",
      "  Downloading fst-pso-1.8.1.tar.gz (18 kB)\n",
      "  Preparing metadata (setup.py): started\n",
      "  Preparing metadata (setup.py): finished with status 'done'\n",
      "Requirement already satisfied: mpmath>=0.19 in c:\\users\\semih\\anaconda3\\lib\\site-packages (from sympy->torch>=1.11.0->sentence-transformers) (1.3.0)\n",
      "Collecting miniful (from fst-pso->pyfume->FuzzyTM>=0.4.0->gensim)\n",
      "  Downloading miniful-0.0.6.tar.gz (2.8 kB)\n",
      "  Preparing metadata (setup.py): started\n",
      "  Preparing metadata (setup.py): finished with status 'done'\n",
      "Downloading FuzzyTM-2.0.9-py3-none-any.whl (31 kB)\n",
      "Downloading pyFUME-0.3.1-py3-none-any.whl (59 kB)\n",
      "   ---------------------------------------- 59.6/59.6 kB 795.7 kB/s eta 0:00:00\n",
      "Downloading simpful-2.12.0-py3-none-any.whl (24 kB)\n",
      "Building wheels for collected packages: fst-pso, miniful\n",
      "  Building wheel for fst-pso (setup.py): started\n",
      "  Building wheel for fst-pso (setup.py): finished with status 'done'\n",
      "  Created wheel for fst-pso: filename=fst_pso-1.8.1-py3-none-any.whl size=20451 sha256=74b08697b64e69159ae737c784aa692ad4d66c9c4b805152480d4d96176a2145\n",
      "  Stored in directory: c:\\users\\semih\\appdata\\local\\pip\\cache\\wheels\\69\\f5\\e5\\18ad53fe1ed6b2af9fad05ec052e4acbac8e92441df44bad2e\n",
      "  Building wheel for miniful (setup.py): started\n",
      "  Building wheel for miniful (setup.py): finished with status 'done'\n",
      "  Created wheel for miniful: filename=miniful-0.0.6-py3-none-any.whl size=3517 sha256=b14481e069a9e9d4d0067b633ffea06fc9a5d8cdfe7f6eba612e41851ad9a9d8\n",
      "  Stored in directory: c:\\users\\semih\\appdata\\local\\pip\\cache\\wheels\\9d\\ff\\2f\\afe4cd56f47de147407705626517d68bea0f3b74eb1fb168e6\n",
      "Successfully built fst-pso miniful\n",
      "Installing collected packages: simpful, miniful, fst-pso, pyfume, FuzzyTM\n",
      "Successfully installed FuzzyTM-2.0.9 fst-pso-1.8.1 miniful-0.0.6 pyfume-0.3.1 simpful-2.12.0\n"
     ]
    },
    {
     "name": "stdout",
     "output_type": "stream",
     "text": [
      "Collecting en-core-web-sm==3.7.1\n",
      "  Downloading https://github.com/explosion/spacy-models/releases/download/en_core_web_sm-3.7.1/en_core_web_sm-3.7.1-py3-none-any.whl (12.8 MB)\n",
      "     ---------------------------------------- 12.8/12.8 MB 9.9 MB/s eta 0:00:00\n",
      "Requirement already satisfied: spacy<3.8.0,>=3.7.2 in c:\\users\\semih\\anaconda3\\lib\\site-packages (from en-core-web-sm==3.7.1) (3.7.4)\n",
      "Requirement already satisfied: spacy-legacy<3.1.0,>=3.0.11 in c:\\users\\semih\\anaconda3\\lib\\site-packages (from spacy<3.8.0,>=3.7.2->en-core-web-sm==3.7.1) (3.0.12)\n",
      "Requirement already satisfied: spacy-loggers<2.0.0,>=1.0.0 in c:\\users\\semih\\anaconda3\\lib\\site-packages (from spacy<3.8.0,>=3.7.2->en-core-web-sm==3.7.1) (1.0.5)\n",
      "Requirement already satisfied: murmurhash<1.1.0,>=0.28.0 in c:\\users\\semih\\anaconda3\\lib\\site-packages (from spacy<3.8.0,>=3.7.2->en-core-web-sm==3.7.1) (1.0.10)\n",
      "Requirement already satisfied: cymem<2.1.0,>=2.0.2 in c:\\users\\semih\\anaconda3\\lib\\site-packages (from spacy<3.8.0,>=3.7.2->en-core-web-sm==3.7.1) (2.0.8)\n",
      "Requirement already satisfied: preshed<3.1.0,>=3.0.2 in c:\\users\\semih\\anaconda3\\lib\\site-packages (from spacy<3.8.0,>=3.7.2->en-core-web-sm==3.7.1) (3.0.9)\n",
      "Requirement already satisfied: thinc<8.3.0,>=8.2.2 in c:\\users\\semih\\anaconda3\\lib\\site-packages (from spacy<3.8.0,>=3.7.2->en-core-web-sm==3.7.1) (8.2.3)\n",
      "Requirement already satisfied: wasabi<1.2.0,>=0.9.1 in c:\\users\\semih\\anaconda3\\lib\\site-packages (from spacy<3.8.0,>=3.7.2->en-core-web-sm==3.7.1) (1.1.2)\n",
      "Requirement already satisfied: srsly<3.0.0,>=2.4.3 in c:\\users\\semih\\anaconda3\\lib\\site-packages (from spacy<3.8.0,>=3.7.2->en-core-web-sm==3.7.1) (2.4.8)\n",
      "Requirement already satisfied: catalogue<2.1.0,>=2.0.6 in c:\\users\\semih\\anaconda3\\lib\\site-packages (from spacy<3.8.0,>=3.7.2->en-core-web-sm==3.7.1) (2.0.10)\n",
      "Requirement already satisfied: weasel<0.4.0,>=0.1.0 in c:\\users\\semih\\anaconda3\\lib\\site-packages (from spacy<3.8.0,>=3.7.2->en-core-web-sm==3.7.1) (0.3.4)\n",
      "Requirement already satisfied: typer<0.10.0,>=0.3.0 in c:\\users\\semih\\anaconda3\\lib\\site-packages (from spacy<3.8.0,>=3.7.2->en-core-web-sm==3.7.1) (0.9.4)\n",
      "Requirement already satisfied: smart-open<7.0.0,>=5.2.1 in c:\\users\\semih\\anaconda3\\lib\\site-packages (from spacy<3.8.0,>=3.7.2->en-core-web-sm==3.7.1) (5.2.1)\n",
      "Requirement already satisfied: tqdm<5.0.0,>=4.38.0 in c:\\users\\semih\\anaconda3\\lib\\site-packages (from spacy<3.8.0,>=3.7.2->en-core-web-sm==3.7.1) (4.65.0)\n",
      "Requirement already satisfied: requests<3.0.0,>=2.13.0 in c:\\users\\semih\\anaconda3\\lib\\site-packages (from spacy<3.8.0,>=3.7.2->en-core-web-sm==3.7.1) (2.31.0)\n",
      "Requirement already satisfied: pydantic!=1.8,!=1.8.1,<3.0.0,>=1.7.4 in c:\\users\\semih\\anaconda3\\lib\\site-packages (from spacy<3.8.0,>=3.7.2->en-core-web-sm==3.7.1) (1.10.12)\n",
      "Requirement already satisfied: jinja2 in c:\\users\\semih\\anaconda3\\lib\\site-packages (from spacy<3.8.0,>=3.7.2->en-core-web-sm==3.7.1) (3.1.3)\n",
      "Requirement already satisfied: setuptools in c:\\users\\semih\\anaconda3\\lib\\site-packages (from spacy<3.8.0,>=3.7.2->en-core-web-sm==3.7.1) (68.2.2)\n",
      "Requirement already satisfied: packaging>=20.0 in c:\\users\\semih\\appdata\\roaming\\python\\python311\\site-packages (from spacy<3.8.0,>=3.7.2->en-core-web-sm==3.7.1) (21.3)\n",
      "Requirement already satisfied: langcodes<4.0.0,>=3.2.0 in c:\\users\\semih\\anaconda3\\lib\\site-packages (from spacy<3.8.0,>=3.7.2->en-core-web-sm==3.7.1) (3.4.0)\n",
      "Requirement already satisfied: numpy>=1.19.0 in c:\\users\\semih\\anaconda3\\lib\\site-packages (from spacy<3.8.0,>=3.7.2->en-core-web-sm==3.7.1) (1.26.4)\n",
      "Requirement already satisfied: language-data>=1.2 in c:\\users\\semih\\anaconda3\\lib\\site-packages (from langcodes<4.0.0,>=3.2.0->spacy<3.8.0,>=3.7.2->en-core-web-sm==3.7.1) (1.2.0)\n",
      "Requirement already satisfied: pyparsing!=3.0.5,>=2.0.2 in c:\\users\\semih\\appdata\\roaming\\python\\python311\\site-packages (from packaging>=20.0->spacy<3.8.0,>=3.7.2->en-core-web-sm==3.7.1) (3.0.9)\n",
      "Requirement already satisfied: typing-extensions>=4.2.0 in c:\\users\\semih\\anaconda3\\lib\\site-packages (from pydantic!=1.8,!=1.8.1,<3.0.0,>=1.7.4->spacy<3.8.0,>=3.7.2->en-core-web-sm==3.7.1) (4.9.0)\n",
      "Requirement already satisfied: charset-normalizer<4,>=2 in c:\\users\\semih\\anaconda3\\lib\\site-packages (from requests<3.0.0,>=2.13.0->spacy<3.8.0,>=3.7.2->en-core-web-sm==3.7.1) (2.0.4)\n",
      "Requirement already satisfied: idna<4,>=2.5 in c:\\users\\semih\\anaconda3\\lib\\site-packages (from requests<3.0.0,>=2.13.0->spacy<3.8.0,>=3.7.2->en-core-web-sm==3.7.1) (3.4)\n",
      "Requirement already satisfied: urllib3<3,>=1.21.1 in c:\\users\\semih\\anaconda3\\lib\\site-packages (from requests<3.0.0,>=2.13.0->spacy<3.8.0,>=3.7.2->en-core-web-sm==3.7.1) (2.0.7)\n",
      "Requirement already satisfied: certifi>=2017.4.17 in c:\\users\\semih\\anaconda3\\lib\\site-packages (from requests<3.0.0,>=2.13.0->spacy<3.8.0,>=3.7.2->en-core-web-sm==3.7.1) (2024.2.2)\n",
      "Requirement already satisfied: blis<0.8.0,>=0.7.8 in c:\\users\\semih\\anaconda3\\lib\\site-packages (from thinc<8.3.0,>=8.2.2->spacy<3.8.0,>=3.7.2->en-core-web-sm==3.7.1) (0.7.11)\n",
      "Requirement already satisfied: confection<1.0.0,>=0.0.1 in c:\\users\\semih\\anaconda3\\lib\\site-packages (from thinc<8.3.0,>=8.2.2->spacy<3.8.0,>=3.7.2->en-core-web-sm==3.7.1) (0.1.4)\n",
      "Requirement already satisfied: colorama in c:\\users\\semih\\appdata\\roaming\\python\\python311\\site-packages (from tqdm<5.0.0,>=4.38.0->spacy<3.8.0,>=3.7.2->en-core-web-sm==3.7.1) (0.4.6)\n",
      "Requirement already satisfied: click<9.0.0,>=7.1.1 in c:\\users\\semih\\anaconda3\\lib\\site-packages (from typer<0.10.0,>=0.3.0->spacy<3.8.0,>=3.7.2->en-core-web-sm==3.7.1) (8.1.7)\n",
      "Requirement already satisfied: cloudpathlib<0.17.0,>=0.7.0 in c:\\users\\semih\\anaconda3\\lib\\site-packages (from weasel<0.4.0,>=0.1.0->spacy<3.8.0,>=3.7.2->en-core-web-sm==3.7.1) (0.16.0)\n",
      "Requirement already satisfied: MarkupSafe>=2.0 in c:\\users\\semih\\anaconda3\\lib\\site-packages (from jinja2->spacy<3.8.0,>=3.7.2->en-core-web-sm==3.7.1) (2.1.3)\n",
      "Requirement already satisfied: marisa-trie>=0.7.7 in c:\\users\\semih\\anaconda3\\lib\\site-packages (from language-data>=1.2->langcodes<4.0.0,>=3.2.0->spacy<3.8.0,>=3.7.2->en-core-web-sm==3.7.1) (1.1.0)\n",
      "\u001b[38;5;2m[+] Download and installation successful\u001b[0m\n",
      "You can now load the package via spacy.load('en_core_web_sm')\n"
     ]
    }
   ],
   "source": [
    "# Install the required libraries\n",
    "!pip install pandas matplotlib spacy bertopic scikit-learn gensim umap-learn hdbscan openai tiktoken nltk sentence-transformers numpy kaleido plotly \n",
    "!python -m spacy download en_core_web_sm"
   ]
  },
  {
   "cell_type": "code",
   "execution_count": 78,
   "id": "f58c78cc",
   "metadata": {},
   "outputs": [
    {
     "name": "stderr",
     "output_type": "stream",
     "text": [
      "[nltk_data] Downloading package punkt to\n",
      "[nltk_data]     C:\\Users\\semih\\AppData\\Roaming\\nltk_data...\n",
      "[nltk_data]   Package punkt is already up-to-date!\n"
     ]
    },
    {
     "data": {
      "text/plain": [
       "True"
      ]
     },
     "execution_count": 78,
     "metadata": {},
     "output_type": "execute_result"
    }
   ],
   "source": [
    "# Import the required libraries\n",
    "import os\n",
    "import pandas as pd\n",
    "import matplotlib.pyplot as plt\n",
    "from bertopic import BERTopic\n",
    "from sklearn.feature_extraction.text import CountVectorizer\n",
    "from gensim.models.coherencemodel import CoherenceModel\n",
    "from gensim.corpora.dictionary import Dictionary\n",
    "from umap import UMAP\n",
    "from hdbscan import HDBSCAN\n",
    "from bertopic.representation import KeyBERTInspired\n",
    "from bertopic.representation import MaximalMarginalRelevance, OpenAI\n",
    "from openai import OpenAI\n",
    "import tiktoken\n",
    "import itertools\n",
    "import numpy as np\n",
    "import re\n",
    "import nltk\n",
    "from nltk.tokenize import sent_tokenize\n",
    "from sentence_transformers import SentenceTransformer\n",
    "import spacy\n",
    "import csv\n",
    "import configparser\n",
    "import plotly.io as pio\n",
    "\n",
    "nltk.download('punkt')"
   ]
  },
  {
   "cell_type": "markdown",
   "id": "dbe393e5",
   "metadata": {},
   "source": [
    "# Text Segmentation\n",
    "\n",
    "In this section, the raw data is segmented into smaller pieces to be used for topic modeling in the later stages. Different methods for segmentation were experimented to find the best option for our use case. \n",
    "## Sentence segmentation using the NLTK library:"
   ]
  },
  {
   "cell_type": "code",
   "execution_count": 52,
   "id": "382da859",
   "metadata": {},
   "outputs": [
    {
     "name": "stdout",
     "output_type": "stream",
     "text": [
      "All valid sentences have been written to segmented_text_by_sentences_nltk.csv\n"
     ]
    }
   ],
   "source": [
    "# Function to segment text into sentences using NLTK and clean up the sentences\n",
    "def segment_text_into_sentences_nltk(text):\n",
    "    # Remove newline characters and replace them with a space\n",
    "    cleaned_text = text.replace('\\n', ' ')\n",
    "    sentences = sent_tokenize(cleaned_text)\n",
    "    # Clean each sentence from leading numbers, hyphens, asterisks, parentheses, colons, and periods\n",
    "    cleaned_sentences = [re.sub(r'^[\\d\\-*):.,]+', '', sentence).strip() for sentence in sentences]\n",
    "    return cleaned_sentences\n",
    "\n",
    "# Read the Excel file\n",
    "df = pd.read_excel('Responses.xlsx', engine='openpyxl')\n",
    "\n",
    "# Initialize a DataFrame to store all valid sentences with additional metadata\n",
    "all_sentences = []\n",
    "\n",
    "# Process each row in the DataFrame\n",
    "for _, row in df.iterrows():\n",
    "    sentences = segment_text_into_sentences_nltk(row['concat'])\n",
    "    for sentence in sentences:\n",
    "        if len(sentence.split()) > 1:  # Ensure the sentence has more than one word\n",
    "            all_sentences.append({\n",
    "                'Team No': row['team_no'],\n",
    "                'Year': row['year'],\n",
    "                'Segmented Text': sentence\n",
    "            })\n",
    "\n",
    "# Convert the list of dictionaries to a DataFrame\n",
    "sentence_df = pd.DataFrame(all_sentences)\n",
    "\n",
    "# Save all sentences to a CSV file\n",
    "sentence_df.to_csv('segmented_text_by_sentences_nltk.csv', index=False)\n",
    "\n",
    "print(\"All valid sentences have been written to segmented_text_by_sentences_nltk.csv\")"
   ]
  },
  {
   "cell_type": "markdown",
   "id": "b67016c2",
   "metadata": {},
   "source": [
    "## Sentence segmentation using the SpaCy library:"
   ]
  },
  {
   "cell_type": "code",
   "execution_count": 53,
   "id": "c081c3d4",
   "metadata": {},
   "outputs": [
    {
     "name": "stdout",
     "output_type": "stream",
     "text": [
      "All valid sentences have been written to segmented_text_by_sentences_spacy.csv\n"
     ]
    }
   ],
   "source": [
    "# Load spaCy's English tokenizer\n",
    "nlp_spacy = spacy.load('en_core_web_sm')\n",
    "\n",
    "# Function to segment text into sentences using spaCy and clean up the sentences\n",
    "def segment_text_into_sentences_spacy(text):\n",
    "    # Remove newline characters and replace them with a space\n",
    "    cleaned_text = text.replace('\\n', ' ')\n",
    "    doc = nlp_spacy(cleaned_text)  # Use the renamed NLP object\n",
    "    # Clean each sentence from leading numbers, hyphens, asterisks, parentheses, colons, and periods\n",
    "    cleaned_sentences = [re.sub(r'^[\\d\\-*):.,]+', '', sent.text).strip() for sent in doc.sents]\n",
    "    return cleaned_sentences\n",
    "\n",
    "# Read the Excel file\n",
    "df = pd.read_excel('Responses.xlsx', engine='openpyxl')\n",
    "\n",
    "all_sentences_spacy = []\n",
    "\n",
    "# Process each row in the DataFrame\n",
    "for _, row in df.iterrows():\n",
    "    sentences = segment_text_into_sentences_spacy(row['concat'])\n",
    "    for sentence in sentences:\n",
    "        if len(sentence.split()) > 1:  # Ensure the sentence has more than one word\n",
    "            all_sentences_spacy.append({\n",
    "                'Team No': row['team_no'],\n",
    "                'Year': row['year'],\n",
    "                'Segmented Text': sentence\n",
    "            })\n",
    "            \n",
    "            \n",
    "# Convert the list of dictionaries to a DataFrame\n",
    "sentence_df_spacy = pd.DataFrame(all_sentences_spacy)\n",
    "\n",
    "# Save all sentences to a CSV file\n",
    "sentence_df_spacy.to_csv('segmented_text_by_sentences_spacy.csv', index=False)\n",
    "\n",
    "print(\"All valid sentences have been written to segmented_text_by_sentences_spacy.csv\")"
   ]
  },
  {
   "cell_type": "markdown",
   "id": "220e5a21",
   "metadata": {},
   "source": [
    "## Semantic segmentation for various similarity threshold values\n",
    "\n",
    "### Semantic segmentation using SBERT and the sentence boundary detection of the NLTK library:"
   ]
  },
  {
   "cell_type": "code",
   "execution_count": 54,
   "id": "75398dc5",
   "metadata": {},
   "outputs": [
    {
     "name": "stdout",
     "output_type": "stream",
     "text": [
      "All segments have been written for threshold 0.10 in semantic_segmentation_sbert_nltk\\semantic_segmentation_sbert_nltk_0.10.csv\n",
      "All segments have been written for threshold 0.15 in semantic_segmentation_sbert_nltk\\semantic_segmentation_sbert_nltk_0.15.csv\n",
      "All segments have been written for threshold 0.20 in semantic_segmentation_sbert_nltk\\semantic_segmentation_sbert_nltk_0.20.csv\n",
      "All segments have been written for threshold 0.25 in semantic_segmentation_sbert_nltk\\semantic_segmentation_sbert_nltk_0.25.csv\n",
      "All segments have been written for threshold 0.30 in semantic_segmentation_sbert_nltk\\semantic_segmentation_sbert_nltk_0.30.csv\n",
      "All segments have been written for threshold 0.35 in semantic_segmentation_sbert_nltk\\semantic_segmentation_sbert_nltk_0.35.csv\n",
      "All segments have been written for threshold 0.40 in semantic_segmentation_sbert_nltk\\semantic_segmentation_sbert_nltk_0.40.csv\n",
      "All segments have been written for threshold 0.45 in semantic_segmentation_sbert_nltk\\semantic_segmentation_sbert_nltk_0.45.csv\n",
      "All segments have been written for threshold 0.50 in semantic_segmentation_sbert_nltk\\semantic_segmentation_sbert_nltk_0.50.csv\n",
      "All segments have been written for threshold 0.55 in semantic_segmentation_sbert_nltk\\semantic_segmentation_sbert_nltk_0.55.csv\n",
      "All segments have been written for threshold 0.60 in semantic_segmentation_sbert_nltk\\semantic_segmentation_sbert_nltk_0.60.csv\n",
      "All segments have been written for threshold 0.65 in semantic_segmentation_sbert_nltk\\semantic_segmentation_sbert_nltk_0.65.csv\n",
      "All segments have been written for threshold 0.70 in semantic_segmentation_sbert_nltk\\semantic_segmentation_sbert_nltk_0.70.csv\n"
     ]
    }
   ],
   "source": [
    "# Load the SentenceTransformers model (SBERT)\n",
    "model = SentenceTransformer('all-MiniLM-L6-v2')\n",
    "\n",
    "# Function to segment text based on a given semantic similarity threshold\n",
    "def segment_text_nltk(text, similarity_threshold):\n",
    "    # Remove newline characters and replace them with a space\n",
    "    cleaned_text = text.replace('\\n', ' ')\n",
    "    \n",
    "    # Use NLTK to tokenize sentences\n",
    "    sentences = sent_tokenize(cleaned_text)\n",
    "    \n",
    "    # Clean each sentence from specified characters at the beginning\n",
    "    sentences = [re.sub(r'^[\\d\\-*):.]+', '', sent.strip()) for sent in sentences]\n",
    "    \n",
    "    # Generate embeddings using the SentenceTransformers model\n",
    "    embeddings = model.encode(sentences)\n",
    "    segment_boundaries = [0]\n",
    "    \n",
    "    # Calculate cosine similarity of consecutive sentences to identify segment boundaries\n",
    "    for i in range(len(embeddings) - 1):\n",
    "        similarity = np.dot(embeddings[i], embeddings[i + 1]) / (np.linalg.norm(embeddings[i]) * np.linalg.norm(embeddings[i + 1]))\n",
    "        if similarity < similarity_threshold:\n",
    "            segment_boundaries.append(i + 1)\n",
    "    segment_boundaries.append(len(sentences))\n",
    "    \n",
    "    segments = []\n",
    "    for i in range(len(segment_boundaries) - 1):\n",
    "        start, end = segment_boundaries[i], segment_boundaries[i + 1]\n",
    "        segment_text_nltk = ' '.join(sentences[start:end])\n",
    "        if len(segment_text_nltk.split()) > 3:  # Ensure the segment has more than three words (to avoid too short segments)\n",
    "            segments.append(segment_text_nltk)\n",
    "    return segments\n",
    "\n",
    "# Similarity threshold values to try\n",
    "threshold_values = np.arange(0.1, 0.75, 0.05)\n",
    "\n",
    "# Create a new directory to store the CSV files\n",
    "output_dir = 'semantic_segmentation_sbert_nltk'\n",
    "os.makedirs(output_dir, exist_ok=True)\n",
    "\n",
    "# Segmentation for each similarity threshold value\n",
    "for threshold in threshold_values:\n",
    "    all_segments = []  # Initialize inside the loop to reset for each threshold\n",
    "    # Process each row in the DataFrame\n",
    "    for _, row in df.iterrows():\n",
    "        segments = segment_text_nltk(row['concat'], threshold)\n",
    "        for segment in segments:\n",
    "            all_segments.append({\n",
    "                'Team No': row['team_no'],\n",
    "                'Year': row['year'],\n",
    "                'Segmented Text': segment\n",
    "            })\n",
    "    \n",
    "    # Convert the list of dictionaries to a DataFrame\n",
    "    segment_df = pd.DataFrame(all_segments)\n",
    "    \n",
    "    # Save all segments to a CSV file, including the threshold in the filename\n",
    "    filename = os.path.join(output_dir, f'semantic_segmentation_sbert_nltk_{threshold:.2f}.csv')\n",
    "    segment_df.to_csv(filename, index=False)\n",
    "    \n",
    "    print(f\"All segments have been written for threshold {threshold:.2f} in {filename}\")"
   ]
  },
  {
   "cell_type": "markdown",
   "id": "283a06e3",
   "metadata": {},
   "source": [
    "### Semantic segmentation using SBERT and the sentence boundary detection of the SpaCy library:"
   ]
  },
  {
   "cell_type": "code",
   "execution_count": 55,
   "id": "bff94a1b",
   "metadata": {},
   "outputs": [
    {
     "name": "stdout",
     "output_type": "stream",
     "text": [
      "All segments have been written for threshold 0.10 in semantic_segmentation_sbert_spacy\\semantic_segmentation_sbert_spacy_0.10.csv\n",
      "All segments have been written for threshold 0.15 in semantic_segmentation_sbert_spacy\\semantic_segmentation_sbert_spacy_0.15.csv\n",
      "All segments have been written for threshold 0.20 in semantic_segmentation_sbert_spacy\\semantic_segmentation_sbert_spacy_0.20.csv\n",
      "All segments have been written for threshold 0.25 in semantic_segmentation_sbert_spacy\\semantic_segmentation_sbert_spacy_0.25.csv\n",
      "All segments have been written for threshold 0.30 in semantic_segmentation_sbert_spacy\\semantic_segmentation_sbert_spacy_0.30.csv\n",
      "All segments have been written for threshold 0.35 in semantic_segmentation_sbert_spacy\\semantic_segmentation_sbert_spacy_0.35.csv\n",
      "All segments have been written for threshold 0.40 in semantic_segmentation_sbert_spacy\\semantic_segmentation_sbert_spacy_0.40.csv\n",
      "All segments have been written for threshold 0.45 in semantic_segmentation_sbert_spacy\\semantic_segmentation_sbert_spacy_0.45.csv\n",
      "All segments have been written for threshold 0.50 in semantic_segmentation_sbert_spacy\\semantic_segmentation_sbert_spacy_0.50.csv\n",
      "All segments have been written for threshold 0.55 in semantic_segmentation_sbert_spacy\\semantic_segmentation_sbert_spacy_0.55.csv\n",
      "All segments have been written for threshold 0.60 in semantic_segmentation_sbert_spacy\\semantic_segmentation_sbert_spacy_0.60.csv\n",
      "All segments have been written for threshold 0.65 in semantic_segmentation_sbert_spacy\\semantic_segmentation_sbert_spacy_0.65.csv\n",
      "All segments have been written for threshold 0.70 in semantic_segmentation_sbert_spacy\\semantic_segmentation_sbert_spacy_0.70.csv\n"
     ]
    }
   ],
   "source": [
    "# Load spaCy model for sentence boundary detection\n",
    "nlp = spacy.load('en_core_web_sm')\n",
    "\n",
    "# Load the sentence-transformer model (SBERT)\n",
    "model = SentenceTransformer('all-MiniLM-L6-v2')\n",
    "\n",
    "# Function to segment text based on a given semantic similarity threshold\n",
    "def segment_text_spacy(text, similarity_threshold):\n",
    "    # Remove newline characters and replace them with a space\n",
    "    cleaned_text = text.replace('\\n', ' ')\n",
    "    doc = nlp(cleaned_text)\n",
    "    # Clean each sentence from specified characters at the beginning\n",
    "    sentences = [re.sub(r'^[\\d\\-*):.]+', '', sent.text.strip()) for sent in doc.sents]\n",
    "    embeddings = model.encode(sentences)\n",
    "    segment_boundaries = [0]\n",
    "    \n",
    "    # Calculate cosine similarity of consecutive sentences to identify segment boundaries\n",
    "    for i in range(len(embeddings) - 1):\n",
    "        similarity = np.dot(embeddings[i], embeddings[i + 1]) / (np.linalg.norm(embeddings[i]) * np.linalg.norm(embeddings[i + 1]))\n",
    "        if similarity < similarity_threshold:\n",
    "            segment_boundaries.append(i + 1)\n",
    "    segment_boundaries.append(len(sentences))\n",
    "    \n",
    "    segments = []\n",
    "    for i in range(len(segment_boundaries) - 1):\n",
    "        start, end = segment_boundaries[i], segment_boundaries[i + 1]\n",
    "        segment_text_spacy = ' '.join(sentences[start:end])\n",
    "        if len(segment_text_spacy.split()) > 3:  # Ensure the segment has more than three words\n",
    "            segments.append(segment_text_spacy)\n",
    "    return segments\n",
    "\n",
    "# Read the Excel file\n",
    "df = pd.read_excel('Responses.xlsx', engine='openpyxl')\n",
    "\n",
    "# Threshold values to try\n",
    "threshold_values = np.arange(0.1, 0.75, 0.05)\n",
    "\n",
    "# Create a new directory to store the CSV files\n",
    "output_dir = 'semantic_segmentation_sbert_spacy'\n",
    "os.makedirs(output_dir, exist_ok=True)\n",
    "\n",
    "# Segmentation for each similarity threshold value\n",
    "for threshold in threshold_values:\n",
    "    all_segments = []  # Initialize inside the loop to reset for each threshold\n",
    "    # Process each row in the DataFrame\n",
    "    for _, row in df.iterrows():\n",
    "        segments = segment_text_spacy(row['concat'], threshold)\n",
    "        for segment in segments:\n",
    "            all_segments.append({\n",
    "                'Team No': row['team_no'],\n",
    "                'Year': row['year'],\n",
    "                'Segmented Text': segment\n",
    "            })\n",
    "    \n",
    "    # Convert the list of dictionaries to a DataFrame\n",
    "    segment_df = pd.DataFrame(all_segments)\n",
    "    \n",
    "    # Save all segments to a CSV file, including the threshold in the filename\n",
    "    filename = os.path.join(output_dir, f'semantic_segmentation_sbert_spacy_{threshold:.2f}.csv')\n",
    "    segment_df.to_csv(filename, index=False)\n",
    "    \n",
    "    print(f\"All segments have been written for threshold {threshold:.2f} in {filename}\")"
   ]
  },
  {
   "cell_type": "markdown",
   "id": "35174b30",
   "metadata": {},
   "source": [
    "# Identifying the segmentation characteristics for the highest coherence score\n",
    "\n",
    "This section aims to find the optimum way of segmenting text to get the highest coherence score when the default settings of BERTopic are used. The files generated in the previous section were used for topic modeling and coherence score calculation so the option that gives the best result can be identified.  \n",
    "\n",
    "## Topic modeling and coherence score calculation for the semantic segmentation using SBERT and NLTK's sentence boundary detection:"
   ]
  },
  {
   "cell_type": "code",
   "execution_count": 56,
   "id": "fdc2db33",
   "metadata": {
    "scrolled": false
   },
   "outputs": [
    {
     "name": "stdout",
     "output_type": "stream",
     "text": [
      "Processed semantic_segmentation_sbert_nltk\\semantic_segmentation_sbert_nltk_0.10.csv with 4 topics and coherence score: 0.3616\n",
      "Processed semantic_segmentation_sbert_nltk\\semantic_segmentation_sbert_nltk_0.15.csv with 4 topics and coherence score: 0.4218\n",
      "Processed semantic_segmentation_sbert_nltk\\semantic_segmentation_sbert_nltk_0.20.csv with 3 topics and coherence score: 0.4011\n",
      "Processed semantic_segmentation_sbert_nltk\\semantic_segmentation_sbert_nltk_0.25.csv with 10 topics and coherence score: 0.3917\n",
      "Processed semantic_segmentation_sbert_nltk\\semantic_segmentation_sbert_nltk_0.30.csv with 12 topics and coherence score: 0.4075\n",
      "Processed semantic_segmentation_sbert_nltk\\semantic_segmentation_sbert_nltk_0.35.csv with 7 topics and coherence score: 0.3500\n",
      "Processed semantic_segmentation_sbert_nltk\\semantic_segmentation_sbert_nltk_0.40.csv with 9 topics and coherence score: 0.4058\n",
      "Processed semantic_segmentation_sbert_nltk\\semantic_segmentation_sbert_nltk_0.45.csv with 12 topics and coherence score: 0.5155\n",
      "Processed semantic_segmentation_sbert_nltk\\semantic_segmentation_sbert_nltk_0.50.csv with 14 topics and coherence score: 0.5630\n",
      "Processed semantic_segmentation_sbert_nltk\\semantic_segmentation_sbert_nltk_0.55.csv with 17 topics and coherence score: 0.4855\n",
      "Processed semantic_segmentation_sbert_nltk\\semantic_segmentation_sbert_nltk_0.60.csv with 16 topics and coherence score: 0.4587\n",
      "Processed semantic_segmentation_sbert_nltk\\semantic_segmentation_sbert_nltk_0.65.csv with 5 topics and coherence score: 0.4890\n",
      "Processed semantic_segmentation_sbert_nltk\\semantic_segmentation_sbert_nltk_0.70.csv with 22 topics and coherence score: 0.4672\n"
     ]
    }
   ],
   "source": [
    "# Directory containing the segmented text files\n",
    "directory = 'semantic_segmentation_sbert_nltk'\n",
    "\n",
    "# Initialize a CountVectorizer \n",
    "vectorizer_model = CountVectorizer(stop_words='english', ngram_range=(1,2)) # Allow up to two words for word groups\n",
    "\n",
    "umap_model = UMAP(n_neighbors=15, n_components=5, \n",
    "                  min_dist=0.0, metric='cosine', random_state=42)\n",
    "\n",
    "# Prepare to collect threshold, coherence data, and number of topics\n",
    "results = []\n",
    "\n",
    "# Process each file in the directory\n",
    "for filename in os.listdir(directory):\n",
    "    if filename.endswith('.csv'):\n",
    "        # Extract the threshold value from the file name\n",
    "        threshold = float(filename.split('_')[-1][:-4])\n",
    "        path = os.path.join(directory, filename)\n",
    "        \n",
    "        # Load the dataset\n",
    "        df = pd.read_csv(path)\n",
    "        documents = df['Segmented Text'].tolist()\n",
    "        \n",
    "        # Create a BERTopic model\n",
    "        model = BERTopic(vectorizer_model=vectorizer_model, umap_model=umap_model, nr_topics=\"auto\")\n",
    "        \n",
    "        # Fit the model\n",
    "        topics, _ = model.fit_transform(documents)\n",
    "\n",
    "        # Calculate the number of unique topics, excluding the outlier topic\n",
    "        num_topics = len(set([topic for topic in topics if topic != -1]))\n",
    "\n",
    "        # Extract topic words\n",
    "        topic_words = [model.get_topic(topic) for topic in set(topics) if topic != -1]\n",
    "        topic_words = [[word for word, _ in topic] for topic in topic_words]\n",
    "\n",
    "        # Tokenize documents for Gensim\n",
    "        tokenized_docs = [doc.split() for doc in documents]\n",
    "\n",
    "        # Create a Gensim Dictionary and Corpus\n",
    "        dictionary = Dictionary(tokenized_docs)\n",
    "        corpus = [dictionary.doc2bow(doc) for doc in tokenized_docs]\n",
    "\n",
    "        # Use Gensim's CoherenceModel to compute coherence scores\n",
    "        coherence_model = CoherenceModel(topics=topic_words, texts=tokenized_docs, dictionary=dictionary, coherence='c_v')\n",
    "        coherence_score = coherence_model.get_coherence()\n",
    "\n",
    "        # Append results including the filename and number of topics\n",
    "        results.append([path, threshold, coherence_score, num_topics])\n",
    "        print(f\"Processed {path} with {num_topics} topics and coherence score: {coherence_score:.4f}\")\n",
    "\n",
    "# Save results to CSV\n",
    "results_df = pd.DataFrame(results, columns=['File Path', 'Threshold', 'Coherence', 'Number of Topics'])\n",
    "results_df.to_csv('coherence_scores_semantic_segmentation_sbert_nltk.csv', index=False)"
   ]
  },
  {
   "cell_type": "code",
   "execution_count": 57,
   "id": "d1668a7a",
   "metadata": {},
   "outputs": [
    {
     "data": {
      "image/png": "[encoded data removed]",
      "text/plain": [
       "<Figure size 1000x500 with 1 Axes>"
      ]
     },
     "metadata": {},
     "output_type": "display_data"
    }
   ],
   "source": [
    "# Plotting\n",
    "plt.figure(figsize=(10, 5))\n",
    "\n",
    "thresholds_nltk = results_df['Threshold']\n",
    "coherences_nltk = results_df['Coherence']\n",
    "\n",
    "plt.plot(thresholds_nltk, coherences_nltk, marker='o')\n",
    "\n",
    "offset = 0.003\n",
    "for x, y in zip(thresholds_nltk, coherences_nltk):\n",
    "    plt.text(x - 3*offset, y + offset, f'{y:.4f}', fontsize=8, ha='center', va='bottom')\n",
    "    \n",
    "plt.title('Coherence Scores vs Semantic Similarity Threshold (Segmentation using SBERT and NLTK)')\n",
    "plt.xlabel('Semantic Similarity Threshold')\n",
    "plt.ylabel('Coherence Score (c_v)')\n",
    "plt.grid(True)\n",
    "plt.show()"
   ]
  },
  {
   "cell_type": "markdown",
   "id": "46fc25bf",
   "metadata": {},
   "source": [
    "## Topic modeling and coherence score calculation for the semantic segmentation using SBERT and SpaCy's sentence boundary detection:"
   ]
  },
  {
   "cell_type": "code",
   "execution_count": 58,
   "id": "d42cd854",
   "metadata": {},
   "outputs": [
    {
     "name": "stdout",
     "output_type": "stream",
     "text": [
      "Processed semantic_segmentation_sbert_spacy\\semantic_segmentation_sbert_spacy_0.10.csv with 3 topics and coherence score: 0.3817\n",
      "Processed semantic_segmentation_sbert_spacy\\semantic_segmentation_sbert_spacy_0.15.csv with 4 topics and coherence score: 0.5081\n",
      "Processed semantic_segmentation_sbert_spacy\\semantic_segmentation_sbert_spacy_0.20.csv with 9 topics and coherence score: 0.3651\n",
      "Processed semantic_segmentation_sbert_spacy\\semantic_segmentation_sbert_spacy_0.25.csv with 9 topics and coherence score: 0.3673\n",
      "Processed semantic_segmentation_sbert_spacy\\semantic_segmentation_sbert_spacy_0.30.csv with 2 topics and coherence score: 0.4669\n",
      "Processed semantic_segmentation_sbert_spacy\\semantic_segmentation_sbert_spacy_0.35.csv with 6 topics and coherence score: 0.3005\n",
      "Processed semantic_segmentation_sbert_spacy\\semantic_segmentation_sbert_spacy_0.40.csv with 8 topics and coherence score: 0.4779\n",
      "Processed semantic_segmentation_sbert_spacy\\semantic_segmentation_sbert_spacy_0.45.csv with 13 topics and coherence score: 0.5213\n",
      "Processed semantic_segmentation_sbert_spacy\\semantic_segmentation_sbert_spacy_0.50.csv with 22 topics and coherence score: 0.5314\n",
      "Processed semantic_segmentation_sbert_spacy\\semantic_segmentation_sbert_spacy_0.55.csv with 4 topics and coherence score: 0.5586\n",
      "Processed semantic_segmentation_sbert_spacy\\semantic_segmentation_sbert_spacy_0.60.csv with 5 topics and coherence score: 0.5308\n",
      "Processed semantic_segmentation_sbert_spacy\\semantic_segmentation_sbert_spacy_0.65.csv with 5 topics and coherence score: 0.5121\n",
      "Processed semantic_segmentation_sbert_spacy\\semantic_segmentation_sbert_spacy_0.70.csv with 4 topics and coherence score: 0.3665\n"
     ]
    }
   ],
   "source": [
    "# Directory containing the segmented text files\n",
    "directory = 'semantic_segmentation_sbert_spacy'\n",
    "\n",
    "# Initialize a CountVectorizer\n",
    "vectorizer_model = CountVectorizer(stop_words='english', ngram_range=(1,2))\n",
    "\n",
    "umap_model = UMAP(n_neighbors=15, n_components=5, \n",
    "                  min_dist=0.0, metric='cosine', random_state=42)\n",
    "\n",
    "# Prepare to collect threshold, coherence data, and number of topics\n",
    "results = []\n",
    "\n",
    "# Process each file in the directory\n",
    "for filename in os.listdir(directory):\n",
    "    if filename.endswith('.csv'):\n",
    "        # Extract the threshold value from the file name\n",
    "        threshold = float(filename.split('_')[-1][:-4])\n",
    "        path = os.path.join(directory, filename)\n",
    "        \n",
    "        # Load the dataset\n",
    "        df = pd.read_csv(path)\n",
    "        documents = df['Segmented Text'].tolist()\n",
    "        \n",
    "        # Create a BERTopic model\n",
    "        model = BERTopic(vectorizer_model=vectorizer_model, umap_model=umap_model, nr_topics=\"auto\")\n",
    "        \n",
    "        # Fit the model\n",
    "        topics, _ = model.fit_transform(documents)\n",
    "\n",
    "        # Calculate the number of unique topics, excluding the outlier topic\n",
    "        num_topics = len(set([topic for topic in topics if topic != -1]))\n",
    "\n",
    "        # Extract topic words\n",
    "        topic_words = [model.get_topic(topic) for topic in set(topics) if topic != -1]\n",
    "        topic_words = [[word for word, _ in topic] for topic in topic_words]\n",
    "\n",
    "        # Tokenize documents for Gensim\n",
    "        tokenized_docs = [doc.split() for doc in documents]\n",
    "\n",
    "        # Create a Gensim Dictionary and Corpus\n",
    "        dictionary = Dictionary(tokenized_docs)\n",
    "        corpus = [dictionary.doc2bow(doc) for doc in tokenized_docs]\n",
    "\n",
    "        # Use Gensim's CoherenceModel to compute coherence scores\n",
    "        coherence_model = CoherenceModel(topics=topic_words, texts=tokenized_docs, dictionary=dictionary, coherence='c_v')\n",
    "        coherence_score = coherence_model.get_coherence()\n",
    "\n",
    "        # Append results including the number of topics\n",
    "        results.append([path, threshold, coherence_score, num_topics])\n",
    "        print(f\"Processed {path} with {num_topics} topics and coherence score: {coherence_score:.4f}\")\n",
    "\n",
    "# Save results to CSV\n",
    "results_df = pd.DataFrame(results, columns=['File Path', 'Threshold', 'Coherence', 'Number of Topics'])\n",
    "results_df.to_csv('coherence_scores_semantic_segmentation_sbert_spacy.csv', index=False)"
   ]
  },
  {
   "cell_type": "code",
   "execution_count": 59,
   "id": "199f78ca",
   "metadata": {},
   "outputs": [
    {
     "data": {
      "image/png": "[encoded data removed]",
      "text/plain": [
       "<Figure size 1000x500 with 1 Axes>"
      ]
     },
     "metadata": {},
     "output_type": "display_data"
    }
   ],
   "source": [
    "# Plotting\n",
    "plt.figure(figsize=(10, 5))\n",
    "\n",
    "thresholds_spacy = results_df['Threshold']\n",
    "coherences_spacy = results_df['Coherence']\n",
    "\n",
    "plt.plot(thresholds_spacy, coherences_spacy, marker='o')\n",
    "\n",
    "offset = 0.003\n",
    "for x, y in zip(thresholds_spacy, coherences_spacy):\n",
    "    plt.text(x - 3*offset, y + offset, f'{y:.4f}', fontsize=8, ha='center', va='bottom')\n",
    "    \n",
    "plt.title('Coherence Scores vs Semantic Similarity Threshold (Segmentation using SBERT and SpaCy)')\n",
    "plt.xlabel('Semantic Similarity Threshold')\n",
    "plt.ylabel('Coherence Score (c_v)')\n",
    "plt.grid(True)\n",
    "plt.show()"
   ]
  },
  {
   "cell_type": "markdown",
   "id": "7aae4863",
   "metadata": {},
   "source": [
    "## Topic modeling and coherence score calculation for the sentence segmentation using NLTK:"
   ]
  },
  {
   "cell_type": "code",
   "execution_count": 60,
   "id": "eaae3e5a",
   "metadata": {},
   "outputs": [
    {
     "name": "stdout",
     "output_type": "stream",
     "text": [
      "Processed .\\segmented_text_by_sentences_nltk.csv with 13 topics and coherence score: 0.4719\n"
     ]
    }
   ],
   "source": [
    "# File and directory setup\n",
    "directory = '.'\n",
    "filename = 'segmented_text_by_sentences_nltk.csv'\n",
    "path = os.path.join(directory, filename)\n",
    "\n",
    "# Load the dataset\n",
    "df = pd.read_csv(path)\n",
    "documents = df['Segmented Text'].tolist()\n",
    "\n",
    "# Default UMAP parameters from BERTopic\n",
    "n_components = 5\n",
    "n_neighbors = 15\n",
    "\n",
    "# Initialize a CountVectorizer\n",
    "vectorizer_model = CountVectorizer(stop_words='english', ngram_range=(1,2))\n",
    "\n",
    "umap_model = UMAP(n_neighbors=n_neighbors, n_components=n_components, min_dist=0.0, metric='cosine', random_state=42)\n",
    "model = BERTopic(vectorizer_model=vectorizer_model, \n",
    "                 umap_model=umap_model, nr_topics=\"auto\")\n",
    "\n",
    "topics, _ = model.fit_transform(documents)\n",
    "\n",
    "# Count the number of topics, excluding the outlier topic if present\n",
    "num_topics = len(set(topics)) - (1 if -1 in topics else 0)\n",
    "\n",
    "# Extract and process topics\n",
    "topic_words = [model.get_topic(topic) for topic in set(topics) if topic != -1]\n",
    "topic_words = [[word for word, _ in topic] for topic in topic_words]\n",
    "tokenized_docs = [doc.split() for doc in documents]\n",
    "dictionary = Dictionary(tokenized_docs)\n",
    "corpus = [dictionary.doc2bow(doc) for doc in tokenized_docs]\n",
    "coherence_model = CoherenceModel(topics=topic_words, texts=tokenized_docs, dictionary=dictionary, coherence='c_v')\n",
    "coherence_score = coherence_model.get_coherence()\n",
    "\n",
    "# Store results\n",
    "results = [[path, coherence_score, num_topics]]\n",
    "results_df = pd.DataFrame(results, columns=['File Path', 'Coherence', 'Number of Topics'])\n",
    "results_df.to_csv('coherence_score_segmented_by_sentence_nltk.csv', index=False)\n",
    "print(f\"Processed {path} with {num_topics} topics and coherence score: {coherence_score:.4f}\")"
   ]
  },
  {
   "cell_type": "markdown",
   "id": "6471dee9",
   "metadata": {},
   "source": [
    "## Topic modeling and coherence score calculation for the sentence segmentation using SpaCy:"
   ]
  },
  {
   "cell_type": "code",
   "execution_count": 61,
   "id": "867a1047",
   "metadata": {},
   "outputs": [
    {
     "name": "stdout",
     "output_type": "stream",
     "text": [
      "Processed .\\segmented_text_by_sentences_spacy.csv with 25 topics and coherence score: 0.4593\n"
     ]
    }
   ],
   "source": [
    "# File and directory setup\n",
    "directory = '.'\n",
    "filename = 'segmented_text_by_sentences_spacy.csv'\n",
    "path = os.path.join(directory, filename)\n",
    "\n",
    "# Load the dataset\n",
    "df = pd.read_csv(path)\n",
    "documents = df['Segmented Text'].tolist()\n",
    "\n",
    "# Default UMAP parameters from BERTopic\n",
    "n_components = 5\n",
    "n_neighbors = 15\n",
    "\n",
    "# Initialize a CountVectorizer\n",
    "vectorizer_model = CountVectorizer(stop_words='english', ngram_range=(1,2))\n",
    "\n",
    "umap_model = UMAP(n_neighbors=n_neighbors, n_components=n_components, min_dist=0.0, metric='cosine', random_state=42)\n",
    "model = BERTopic(vectorizer_model=vectorizer_model, \n",
    "                 umap_model=umap_model, nr_topics=\"auto\")\n",
    "\n",
    "topics, _ = model.fit_transform(documents)\n",
    "\n",
    "# Count the number of topics, excluding the outlier topic if present\n",
    "num_topics = len(set(topics)) - (1 if -1 in topics else 0)\n",
    "\n",
    "# Extract and process topics\n",
    "topic_words = [model.get_topic(topic) for topic in set(topics) if topic != -1]\n",
    "topic_words = [[word for word, _ in topic] for topic in topic_words]\n",
    "tokenized_docs = [doc.split() for doc in documents]\n",
    "dictionary = Dictionary(tokenized_docs)\n",
    "corpus = [dictionary.doc2bow(doc) for doc in tokenized_docs]\n",
    "coherence_model = CoherenceModel(topics=topic_words, texts=tokenized_docs, dictionary=dictionary, coherence='c_v')\n",
    "coherence_score = coherence_model.get_coherence()\n",
    "\n",
    "# Store results\n",
    "results = [[path, coherence_score, num_topics]]\n",
    "results_df = pd.DataFrame(results, columns=['File Path', 'Coherence', 'Number of Topics'])\n",
    "results_df.to_csv('coherence_score_segmented_by_sentence_spacy.csv', index=False)\n",
    "print(f\"Processed {path} with {num_topics} topics and coherence score: {coherence_score:.4f}\")"
   ]
  },
  {
   "cell_type": "markdown",
   "id": "49fd7527",
   "metadata": {},
   "source": [
    "## Identifying the segmentation characteristics resulting in the highest coherence score:"
   ]
  },
  {
   "cell_type": "code",
   "execution_count": 62,
   "id": "e46b6103",
   "metadata": {},
   "outputs": [
    {
     "name": "stdout",
     "output_type": "stream",
     "text": [
      "The file with the highest coherence and at least 10 topics is: semantic_segmentation_sbert_nltk\\semantic_segmentation_sbert_nltk_0.50.csv with a coherence value of 0.5630\n",
      "Stored 'highest_coherence_file_path' (str)\n"
     ]
    }
   ],
   "source": [
    "# Files that store coherence scores\n",
    "files = [\n",
    "    'coherence_scores_semantic_segmentation_sbert_nltk.csv',\n",
    "    'coherence_scores_semantic_segmentation_sbert_spacy.csv',\n",
    "    'coherence_score_segmented_by_sentence_nltk.csv',\n",
    "    'coherence_score_segmented_by_sentence_spacy.csv'\n",
    "]\n",
    "\n",
    "# Combine all data into a single DataFrame\n",
    "all_data = pd.DataFrame()\n",
    "for file in files:\n",
    "    df = pd.read_csv(file)\n",
    "    all_data = pd.concat([all_data, df], ignore_index=True)\n",
    "    \n",
    "# We want to have at least 10 topics in our topic model\n",
    "# Filter the DataFrame for entries with at least 10 topics\n",
    "filtered_data = all_data[all_data['Number of Topics'] >= 10]\n",
    "\n",
    "max_coherence_row = filtered_data.loc[filtered_data['Coherence'].idxmax()]\n",
    "\n",
    "# Store the file path in a variable\n",
    "highest_coherence_file_path = max_coherence_row['File Path']\n",
    "highest_coherence = max_coherence_row['Coherence']\n",
    "print(f\"The file with the highest coherence and at least 10 topics is: {highest_coherence_file_path} with a coherence value of {highest_coherence:.4f}\")\n",
    "\n",
    "%store highest_coherence_file_path"
   ]
  },
  {
   "cell_type": "markdown",
   "id": "ba34a389",
   "metadata": {},
   "source": [
    "# Hyperparameter fine-tuning for BERTopic\n",
    "\n",
    "## Grid search for UMAP parameters:"
   ]
  },
  {
   "cell_type": "code",
   "execution_count": 63,
   "id": "021f3ed1",
   "metadata": {},
   "outputs": [
    {
     "name": "stdout",
     "output_type": "stream",
     "text": [
      "Processed (n_neighbors=5, n_components=2) with coherence score: 0.4758\n",
      "Processed (n_neighbors=5, n_components=5) with coherence score: 0.4171\n",
      "Processed (n_neighbors=5, n_components=10) with coherence score: 0.4647\n",
      "Processed (n_neighbors=5, n_components=15) with coherence score: 0.4769\n",
      "Processed (n_neighbors=10, n_components=2) with coherence score: 0.4724\n",
      "Processed (n_neighbors=10, n_components=5) with coherence score: 0.4510\n",
      "Processed (n_neighbors=10, n_components=10) with coherence score: 0.4553\n",
      "Processed (n_neighbors=10, n_components=15) with coherence score: 0.4603\n",
      "Processed (n_neighbors=15, n_components=2) with coherence score: 0.4642\n",
      "Processed (n_neighbors=15, n_components=5) with coherence score: 0.5630\n",
      "Processed (n_neighbors=15, n_components=10) with coherence score: 0.4710\n",
      "Processed (n_neighbors=15, n_components=15) with coherence score: 0.4843\n",
      "Processed (n_neighbors=20, n_components=2) with coherence score: 0.4806\n",
      "Processed (n_neighbors=20, n_components=5) with coherence score: 0.5533\n",
      "Processed (n_neighbors=20, n_components=10) with coherence score: 0.5059\n",
      "Processed (n_neighbors=20, n_components=15) with coherence score: 0.4893\n",
      "Processed (n_neighbors=25, n_components=2) with coherence score: 0.5090\n",
      "Processed (n_neighbors=25, n_components=5) with coherence score: 0.5417\n",
      "Processed (n_neighbors=25, n_components=10) with coherence score: 0.4988\n",
      "Processed (n_neighbors=25, n_components=15) with coherence score: 0.5203\n",
      "Processed (n_neighbors=30, n_components=2) with coherence score: 0.5003\n",
      "Processed (n_neighbors=30, n_components=5) with coherence score: 0.4891\n",
      "Processed (n_neighbors=30, n_components=10) with coherence score: 0.5508\n",
      "Processed (n_neighbors=30, n_components=15) with coherence score: 0.5116\n",
      "Processed (n_neighbors=35, n_components=2) with coherence score: 0.4871\n",
      "Processed (n_neighbors=35, n_components=5) with coherence score: 0.5501\n",
      "Processed (n_neighbors=35, n_components=10) with coherence score: 0.5124\n",
      "Processed (n_neighbors=35, n_components=15) with coherence score: 0.5139\n",
      "Stored 'best_n_neighbors' (float64)\n",
      "Stored 'best_n_components' (float64)\n"
     ]
    },
    {
     "data": {
      "image/png": "[encoded data removed]",
      "text/plain": [
       "<Figure size 1000x500 with 1 Axes>"
      ]
     },
     "metadata": {},
     "output_type": "display_data"
    }
   ],
   "source": [
    "# Path of the file with the highest coherence score\n",
    "%store -r highest_coherence_file_path \n",
    "path = highest_coherence_file_path\n",
    "\n",
    "# Load the dataset\n",
    "df = pd.read_csv(path)\n",
    "documents = df['Segmented Text'].tolist()\n",
    "\n",
    "# Grid search parameters\n",
    "n_neighbors_options = [5, 10, 15, 20, 25, 30, 35]\n",
    "n_components_options = [2, 5, 10, 15]\n",
    "\n",
    "# Initialize a CountVectorizer\n",
    "vectorizer_model = CountVectorizer(stop_words='english', ngram_range=(1,2))\n",
    "\n",
    "# Prepare the plotting variables\n",
    "results = []\n",
    "\n",
    "# Perform the grid search\n",
    "for n_neighbors, n_components in itertools.product(n_neighbors_options, n_components_options):\n",
    "    umap_model = UMAP(n_neighbors=n_neighbors, n_components=n_components, min_dist=0.0, metric='cosine', random_state=42)\n",
    "    model = BERTopic(vectorizer_model=vectorizer_model, umap_model=umap_model, nr_topics=\"auto\")\n",
    "    topics, _ = model.fit_transform(documents)\n",
    "    num_topics = len(set([topic for topic in topics if topic != -1]))\n",
    "\n",
    "    # Extract and process topics\n",
    "    topic_words = [model.get_topic(topic) for topic in set(topics) if topic != -1]\n",
    "    topics_list = [[word for word, _ in topic] for topic in topic_words]\n",
    "    tokenized_docs = [doc.split() for doc in documents]\n",
    "    dictionary = Dictionary(tokenized_docs)\n",
    "    corpus = [dictionary.doc2bow(doc) for doc in tokenized_docs]\n",
    "    coherence_model = CoherenceModel(topics=topics_list, texts=tokenized_docs, dictionary=dictionary, coherence='c_v')\n",
    "    coherence_score = coherence_model.get_coherence()\n",
    "\n",
    "    # Store results\n",
    "    results.append([n_neighbors, n_components, coherence_score])\n",
    "    print(f\"Processed (n_neighbors={n_neighbors}, n_components={n_components}) with coherence score: {coherence_score:.4f}\")\n",
    "\n",
    "# Convert results to DataFrame and save\n",
    "results_df = pd.DataFrame(results, columns=['n_neighbors', 'n_components', 'Coherence'])\n",
    "results_df.to_csv('umap_parameters_coherence_scores_c_v.csv', index=False)\n",
    "\n",
    "# Find the best parameters\n",
    "best_params = results_df.loc[results_df['Coherence'].idxmax()]\n",
    "best_n_neighbors = best_params['n_neighbors']\n",
    "best_n_components = best_params['n_components']\n",
    "\n",
    "# Store the best parameters for use in subsequent cells\n",
    "%store best_n_neighbors\n",
    "%store best_n_components\n",
    "\n",
    "# Plotting results\n",
    "plt.figure(figsize=(10, 5))\n",
    "for label, df in results_df.groupby('n_components'):\n",
    "    plt.plot(df['n_neighbors'], df['Coherence'], marker='o', label=f'n_components={label}')\n",
    "plt.title('Coherence Scores vs UMAP Parameters')\n",
    "plt.xlabel('n_neighbors')\n",
    "plt.ylabel('Coherence Score (c_v)')\n",
    "plt.legend(title='UMAP n_components')\n",
    "plt.grid(True)\n",
    "plt.show()"
   ]
  },
  {
   "cell_type": "markdown",
   "id": "25dafc27",
   "metadata": {},
   "source": [
    "## Grid search for HDBSCAN parameters:"
   ]
  },
  {
   "cell_type": "code",
   "execution_count": 64,
   "id": "df0bda4d",
   "metadata": {
    "scrolled": true
   },
   "outputs": [
    {
     "name": "stdout",
     "output_type": "stream",
     "text": [
      "Error in coherence calculation: unable to interpret topic as either a list of tokens or a list of ids\n",
      "Error in coherence calculation: unable to interpret topic as either a list of tokens or a list of ids\n",
      "Processed with min_cluster_size=5, min_samples=5, 41 topics, coherence score: 0.5298\n",
      "Processed with min_cluster_size=10, min_samples=1, 29 topics, coherence score: 0.4836\n",
      "Processed with min_cluster_size=10, min_samples=5, 20 topics, coherence score: 0.4993\n",
      "Processed with min_cluster_size=10, min_samples=10, 14 topics, coherence score: 0.5693\n",
      "Processed with min_cluster_size=15, min_samples=1, 11 topics, coherence score: 0.5252\n",
      "Processed with min_cluster_size=15, min_samples=7, 7 topics, coherence score: 0.4502\n",
      "Processed with min_cluster_size=15, min_samples=15, 8 topics, coherence score: 0.4858\n",
      "Processed with min_cluster_size=20, min_samples=2, 7 topics, coherence score: 0.4739\n",
      "Processed with min_cluster_size=20, min_samples=10, 9 topics, coherence score: 0.5100\n",
      "Processed with min_cluster_size=20, min_samples=20, 10 topics, coherence score: 0.4357\n",
      "Processed with min_cluster_size=25, min_samples=2, 8 topics, coherence score: 0.4722\n",
      "Processed with min_cluster_size=25, min_samples=12, 7 topics, coherence score: 0.4169\n",
      "Processed with min_cluster_size=25, min_samples=25, 6 topics, coherence score: 0.4771\n",
      "Stored 'best_min_cluster_size' (float64)\n",
      "Stored 'best_min_samples' (float64)\n"
     ]
    },
    {
     "data": {
      "image/png": "[encoded data removed]",
      "text/plain": [
       "<Figure size 1000x500 with 1 Axes>"
      ]
     },
     "metadata": {},
     "output_type": "display_data"
    }
   ],
   "source": [
    "# Load the UMAP parameters\n",
    "%store -r best_n_neighbors\n",
    "%store -r best_n_components\n",
    "n_neighbors = int(best_n_neighbors)\n",
    "n_components = int(best_n_components)\n",
    "\n",
    "# Load the path of the file with the highest coherence score\n",
    "%store -r highest_coherence_file_path\n",
    "path = highest_coherence_file_path\n",
    "\n",
    "# Load the dataset\n",
    "df = pd.read_csv(path)\n",
    "documents = df['Segmented Text'].tolist()\n",
    "\n",
    "# Initialize a CountVectorizer\n",
    "vectorizer_model = CountVectorizer(stop_words='english', ngram_range=(1, 2))\n",
    "\n",
    "# HDBSCAN parameters for grid search\n",
    "min_cluster_size_options = [5, 10, 15, 20, 25]\n",
    "min_samples_percentages = [10, 50, 100]  # percentages of the min_cluster_size\n",
    "\n",
    "results = []  # Prepare the plotting variables\n",
    "\n",
    "# Perform the grid search\n",
    "for min_cluster_size in min_cluster_size_options:\n",
    "    for percentage in min_samples_percentages:\n",
    "        min_samples = max(1, int(min_cluster_size * (percentage / 100)))\n",
    "        hdbscan_model = HDBSCAN(min_cluster_size=min_cluster_size, min_samples=min_samples, metric='euclidean', prediction_data=True)\n",
    "        umap_model = UMAP(n_neighbors=n_neighbors, n_components=n_components, min_dist=0.0, metric='cosine', random_state=42)\n",
    "        model = BERTopic(vectorizer_model=vectorizer_model, umap_model=umap_model, hdbscan_model=hdbscan_model, nr_topics=\"auto\")\n",
    "        \n",
    "        topics, _ = model.fit_transform(documents)\n",
    "        num_topics = len(set(topics)) - (1 if -1 in topics else 0)\n",
    "\n",
    "        # Extract and process topics\n",
    "        topic_words = [model.get_topic(topic) for topic in set(topics) if topic != -1]\n",
    "        topics_list = [[word for word, _ in topic] for topic in topic_words]\n",
    "        tokenized_docs = [doc.split() for doc in documents]\n",
    "        all_words = set(word for topic in topics_list for word in topic)  # Collect all unique words from topics\n",
    "        tokenized_docs.extend([list(words) for words in all_words])  # Add words from topics as separate documents\n",
    "        dictionary = Dictionary(tokenized_docs)\n",
    "        corpus = [dictionary.doc2bow(doc) for doc in tokenized_docs]\n",
    "\n",
    "        # Compute coherence score\n",
    "        try:\n",
    "            coherence_model = CoherenceModel(topics=topics_list, texts=tokenized_docs, dictionary=dictionary, coherence='c_v')\n",
    "            coherence_score = coherence_model.get_coherence()\n",
    "            results.append([min_cluster_size, min_samples, num_topics, coherence_score])\n",
    "            print(f\"Processed with min_cluster_size={min_cluster_size}, min_samples={min_samples}, {num_topics} topics, coherence score: {coherence_score:.4f}\")\n",
    "        except Exception as e:\n",
    "            print(f\"Error in coherence calculation: {str(e)}\")\n",
    "\n",
    "# Save results to a DataFrame and CSV\n",
    "results_df = pd.DataFrame(results, columns=['min_cluster_size', 'min_samples', 'Number of Topics', 'Coherence'])\n",
    "results_df.to_csv('hdbscan_parameters_coherence_scores.csv', index=False)\n",
    "\n",
    "# Identify the best parameters\n",
    "best_params = results_df.loc[results_df['Coherence'].idxmax()]\n",
    "best_min_cluster_size = best_params['min_cluster_size']\n",
    "best_min_samples = best_params['min_samples']\n",
    "\n",
    "# Store the best parameters for subsequent use\n",
    "%store best_min_cluster_size\n",
    "%store best_min_samples\n",
    "\n",
    "# Visualize the results\n",
    "plt.figure(figsize=(10, 5))\n",
    "for label, df in results_df.groupby('min_cluster_size'):\n",
    "    plt.plot(df['min_samples'], df['Coherence'], marker='o', label=f'min_cluster_size={label}')\n",
    "plt.title('Coherence Scores vs HDBSCAN Parameters')\n",
    "plt.xlabel('min_samples')\n",
    "plt.ylabel('Coherence Score (c_v)')\n",
    "plt.legend(title='min_cluster_size')\n",
    "plt.grid(True)\n",
    "plt.show()"
   ]
  },
  {
   "cell_type": "markdown",
   "id": "5db62367",
   "metadata": {},
   "source": [
    "# Topic modeling and screening\n",
    "\n",
    "## Initial topic modeling using the identified best parameters: "
   ]
  },
  {
   "cell_type": "code",
   "execution_count": 65,
   "id": "42261ec9",
   "metadata": {},
   "outputs": [
    {
     "name": "stdout",
     "output_type": "stream",
     "text": [
      "BERTopic analysis results have been saved to 'bertopic_results.csv'.\n"
     ]
    }
   ],
   "source": [
    "# UMAP parameters\n",
    "%store -r best_n_neighbors\n",
    "%store -r best_n_components\n",
    "n_neighbors = int(best_n_neighbors)\n",
    "n_components = int(best_n_components)\n",
    "\n",
    "# HDBSCAN parameters\n",
    "%store -r best_min_cluster_size\n",
    "%store -r best_min_samples\n",
    "min_cluster_size = int(best_min_cluster_size)\n",
    "min_samples = int(best_min_samples)\n",
    "\n",
    "# Path of the file with the highest coherence score\n",
    "%store -r highest_coherence_file_path \n",
    "path = highest_coherence_file_path\n",
    "\n",
    "# Load the dataset\n",
    "df = pd.read_csv(path)\n",
    "documents = df['Segmented Text'].tolist()\n",
    "\n",
    "vectorizer_model = CountVectorizer(stop_words='english', ngram_range=(1,2))\n",
    "umap_model = UMAP(n_neighbors=n_neighbors, n_components=n_components, min_dist=0.0, metric='cosine', random_state=42)\n",
    "hdbscan_model = HDBSCAN(min_cluster_size=min_cluster_size, min_samples=min_samples, metric='euclidean', prediction_data=True)\n",
    "\n",
    "model = BERTopic(vectorizer_model=vectorizer_model, \n",
    "                 umap_model=umap_model, \n",
    "                 hdbscan_model=hdbscan_model, \n",
    "                 nr_topics=\"auto\")\n",
    "\n",
    "topics, _ = model.fit_transform(documents)\n",
    "\n",
    "# Get the representative documents for each topic\n",
    "representative_docs = model.get_representative_docs()\n",
    "\n",
    "# Extract topics and their respective keywords\n",
    "topic_keywords = model.get_topics()\n",
    "\n",
    "# Prepare DataFrame for storing all data\n",
    "topic_data = []\n",
    "\n",
    "# Process each topic\n",
    "for topic_num, keywords in topic_keywords.items():\n",
    "    if topic_num == -1:\n",
    "        continue  # skip the outlier topic\n",
    "\n",
    "    # Format keywords and their weights\n",
    "    keywords_formatted = \", \".join([f\"{word} ({weight:.2f})\" for word, weight in keywords])\n",
    "\n",
    "    # Retrieve representative documents for this topic\n",
    "    if topic_num in representative_docs:\n",
    "        rep_docs = representative_docs[topic_num][:3]  # Get top 3 docs, if available\n",
    "    else:\n",
    "        rep_docs = [None, None, None]  # Default empty list if no docs available\n",
    "\n",
    "    # Ensure there are always three documents (or None if fewer are available)\n",
    "    rep_docs += [None] * (3 - len(rep_docs))\n",
    "\n",
    "    # Store data\n",
    "    topic_data.append({\n",
    "        \"Topic\": topic_num,\n",
    "        \"Topic Information\": keywords_formatted,\n",
    "        \"Representative Document 1\": rep_docs[0],\n",
    "        \"Representative Document 2\": rep_docs[1],\n",
    "        \"Representative Document 3\": rep_docs[2]\n",
    "    })\n",
    "\n",
    "# Create a DataFrame\n",
    "topics_df = pd.DataFrame(topic_data)\n",
    "\n",
    "# Save to CSV\n",
    "topics_df.to_csv('bertopic_results.csv', index=False, quoting=csv.QUOTE_NONNUMERIC)\n",
    "\n",
    "print(\"BERTopic analysis results have been saved to 'bertopic_results.csv'.\")"
   ]
  },
  {
   "cell_type": "code",
   "execution_count": 66,
   "id": "d3ed4437",
   "metadata": {},
   "outputs": [
    {
     "name": "stdout",
     "output_type": "stream",
     "text": [
      "Topic #-1:\n",
      "robot, data, security, network, access, computer, robots, attack, communication, attacks\n",
      "Topic #0:\n",
      "robot, robots, ros, data, access, computer, control, external, network, communication\n",
      "Topic #1:\n",
      "wifi, password, network, access, handshake, using, router, use, attacks, passwords\n",
      "Topic #2:\n",
      "attacks, data, attack, dos, access, security, network, authentication, compromise, attackers\n",
      "Topic #3:\n",
      "did, competition, okay, time, going, team, thats, phases, good, stage\n",
      "Topic #4:\n",
      "ros, master, ros master, ros network, nodes, network, authentication, communication, ros nodes, node\n",
      "Topic #5:\n",
      "construction, financial, excavators, excavator, construction site, site, project, delays, financial losses, losses\n",
      "Topic #6:\n",
      "lidar, sensor, data, sensors, sensor data, slam, lidar sensor, accelerometer, laser, readings\n",
      "Topic #7:\n",
      "turtlebot, burger, turtlebot3, limited, turtlebot3 burger, battery, turtlebots, power, battery life, processing power\n",
      "Topic #8:\n",
      "firmware, updates, update, software, firmware update, firmware updates, regularly, security, patches, patch\n",
      "Topic #9:\n",
      "subscriber, master, publisher, topic, subscribers, able, publishers, node, procedure, uri\n",
      "Topic #10:\n",
      "intrusion, intrusion detection, detection, suspicious, monitor, traffic, systems, prevention, network, ids\n",
      "Topic #11:\n",
      "project, construction, advantage, competitive, gain, competitor, competitive advantage, rival, company, rival construction\n",
      "Topic #12:\n",
      "malware, images, image, steganography, hidden, dormant activate, certain conditions, science practice, completely identical, computer science\n",
      "Topic #13:\n",
      "access robot, robot, robots, finally, humans, world robots, path okay, monitor starting, pen testers, pen\n"
     ]
    }
   ],
   "source": [
    "# Retrieve all topics and their keywords\n",
    "all_topics = model.get_topics()\n",
    "\n",
    "# Print each topic and its keywords\n",
    "for topic_num, topic in all_topics.items():\n",
    "    print(f\"Topic #{topic_num}:\")\n",
    "    keywords = ', '.join([word for word, score in topic])\n",
    "    print(keywords)"
   ]
  },
  {
   "cell_type": "markdown",
   "id": "4afbb2ec",
   "metadata": {},
   "source": [
    "## Topic screening and merging: \n",
    "\n",
    "Below, the irrelevant topics were merged with the outlier topic (Topic #-1) so that they would not be included in the final list of topics. Also, similar topics were merged to eliminate the duplication of topics. The topics to be merged should be updated whenever the dataset is updated based on the results in the previous cell. "
   ]
  },
  {
   "cell_type": "code",
   "execution_count": 67,
   "id": "e3d30711",
   "metadata": {},
   "outputs": [
    {
     "name": "stdout",
     "output_type": "stream",
     "text": [
      "Topic #-1:\n",
      "robot, data, security, network, access, computer, robots, attack, communication, attacks\n",
      "Topic #0:\n",
      "robot, robots, ros, data, access, computer, control, network, external, communication\n",
      "Topic #1:\n",
      "wifi, password, network, access, using, handshake, router, use, attacks, passwords\n",
      "Topic #2:\n",
      "data, attacks, attack, access, dos, security, network, compromise, authentication, attackers\n",
      "Topic #3:\n",
      "ros, master, nodes, ros master, ros network, network, node, subscriber, topic, authentication\n",
      "Topic #4:\n",
      "construction, financial, excavators, excavator, construction site, site, project, delays, financial losses, losses\n",
      "Topic #5:\n",
      "lidar, sensor, data, sensors, sensor data, slam, lidar sensor, accelerometer, laser, readings\n",
      "Topic #6:\n",
      "firmware, updates, update, software, firmware update, firmware updates, regularly, security, raspberry, patches\n",
      "Topic #7:\n",
      "intrusion, intrusion detection, detection, suspicious, monitor, systems, traffic, network, prevention, ids\n",
      "Topic #8:\n",
      "project, construction, advantage, competitive, gain, competitor, rival, competitive advantage, company, rival construction\n",
      "Topic #9:\n",
      "malware, images, image, steganography, hidden, able, computer science, activate certain, completely identical, able inject\n"
     ]
    }
   ],
   "source": [
    "# Merge the irrelevant topics with the outlier topic (-1) and similar topics with each other\n",
    "topics_to_merge = [[-1, 3],\n",
    "                   [-1, 7],\n",
    "                   [-1, 13],\n",
    "                   [4, 9]]\n",
    "model.merge_topics(documents, topics_to_merge)\n",
    "\n",
    "# Retrieve all topics and their keywords\n",
    "all_topics = model.get_topics()\n",
    "\n",
    "# Print each topic and its keywords\n",
    "for topic_num, topic in all_topics.items():\n",
    "    print(f\"Topic #{topic_num}:\")\n",
    "    keywords = ', '.join([word for word, score in topic])\n",
    "    print(keywords)"
   ]
  },
  {
   "cell_type": "markdown",
   "id": "945b3ebd",
   "metadata": {},
   "source": [
    "## Visualizations for the screened topics:"
   ]
  },
  {
   "cell_type": "code",
   "execution_count": 84,
   "id": "2674aa89",
   "metadata": {},
   "outputs": [
    {
     "data": {
      "application/vnd.plotly.v1+json": {
       "config": {
        "plotlyServerURL": "https://plot.ly"
       },
       "data": [
        {
         "marker": {
          "color": "#D55E00"
         },
         "orientation": "h",
         "type": "bar",
         "x": [
          0.020144413710503878,
          0.02188708105416041,
          0.023165977514990978,
          0.03251265261507549,
          0.05133884678327255
         ],
         "xaxis": "x",
         "y": [
          "access  ",
          "data  ",
          "ros  ",
          "robots  ",
          "robot  "
         ],
         "yaxis": "y"
        },
        {
         "marker": {
          "color": "#0072B2"
         },
         "orientation": "h",
         "type": "bar",
         "x": [
          0.02492667877874335,
          0.02850909582176614,
          0.04119360234471249,
          0.059575014070081776,
          0.06562221724683716
         ],
         "xaxis": "x2",
         "y": [
          "using  ",
          "access  ",
          "network  ",
          "password  ",
          "wifi  "
         ],
         "yaxis": "y2"
        },
        {
         "marker": {
          "color": "#CC79A7"
         },
         "orientation": "h",
         "type": "bar",
         "x": [
          0.024770757194404146,
          0.025756037911550813,
          0.029615411468378938,
          0.04171751980751341,
          0.042572623210815654
         ],
         "xaxis": "x3",
         "y": [
          "dos  ",
          "access  ",
          "attack  ",
          "attacks  ",
          "data  "
         ],
         "yaxis": "y3"
        },
        {
         "marker": {
          "color": "#E69F00"
         },
         "orientation": "h",
         "type": "bar",
         "x": [
          0.039669295880367786,
          0.04291495996747641,
          0.04803380407985622,
          0.06810461032418967,
          0.11592390480343039
         ],
         "xaxis": "x4",
         "y": [
          "ros network  ",
          "ros master  ",
          "nodes  ",
          "master  ",
          "ros  "
         ],
         "yaxis": "y4"
        },
        {
         "marker": {
          "color": "#56B4E9"
         },
         "orientation": "h",
         "type": "bar",
         "x": [
          0.03596470608935664,
          0.039438863920441485,
          0.039891993861742574,
          0.04426425364843894,
          0.08891566936136922
         ],
         "xaxis": "x5",
         "y": [
          "construction site  ",
          "excavator  ",
          "excavators  ",
          "financial  ",
          "construction  "
         ],
         "yaxis": "y5"
        },
        {
         "marker": {
          "color": "#009E73"
         },
         "orientation": "h",
         "type": "bar",
         "x": [
          0.04289403239968837,
          0.0448146326043278,
          0.06537090658589151,
          0.07234213993397706,
          0.07774543372443517
         ],
         "xaxis": "x6",
         "y": [
          "sensor data  ",
          "sensors  ",
          "data  ",
          "sensor  ",
          "lidar  "
         ],
         "yaxis": "y6"
        },
        {
         "marker": {
          "color": "#F0E442"
         },
         "orientation": "h",
         "type": "bar",
         "x": [
          0.06651131828677967,
          0.09168344086630395,
          0.12861153587483826,
          0.13098993491618152,
          0.15474308645385493
         ],
         "xaxis": "x7",
         "y": [
          "firmware update  ",
          "software  ",
          "update  ",
          "updates  ",
          "firmware  "
         ],
         "yaxis": "y7"
        },
        {
         "marker": {
          "color": "#D55E00"
         },
         "orientation": "h",
         "type": "bar",
         "x": [
          0.07849451757498047,
          0.09496115765608193,
          0.14751863789293837,
          0.15012911146525645,
          0.1801352515328319
         ],
         "xaxis": "x8",
         "y": [
          "monitor  ",
          "suspicious  ",
          "detection  ",
          "intrusion detection  ",
          "intrusion  "
         ],
         "yaxis": "y8"
        },
        {
         "marker": {
          "color": "#0072B2"
         },
         "orientation": "h",
         "type": "bar",
         "x": [
          0.06069844674974049,
          0.06997332397423459,
          0.07154930547293059,
          0.09360604878780864,
          0.09896157295933088
         ],
         "xaxis": "x9",
         "y": [
          "gain  ",
          "competitive  ",
          "advantage  ",
          "construction  ",
          "project  "
         ],
         "yaxis": "y9"
        },
        {
         "marker": {
          "color": "#CC79A7"
         },
         "orientation": "h",
         "type": "bar",
         "x": [
          0.06199660385692202,
          0.0785519543462571,
          0.0785519543462571,
          0.08874580760375532,
          0.18628735975639085
         ],
         "xaxis": "x10",
         "y": [
          "hidden  ",
          "steganography  ",
          "image  ",
          "images  ",
          "malware  "
         ],
         "yaxis": "y10"
        }
       ],
       "layout": {
        "annotations": [
         {
          "font": {
           "size": 16
          },
          "showarrow": false,
          "text": "Topic 0",
          "x": 0.0875,
          "xanchor": "center",
          "xref": "paper",
          "y": 1,
          "yanchor": "bottom",
          "yref": "paper"
         },
         {
          "font": {
           "size": 16
          },
          "showarrow": false,
          "text": "Topic 1",
          "x": 0.36250000000000004,
          "xanchor": "center",
          "xref": "paper",
          "y": 1,
          "yanchor": "bottom",
          "yref": "paper"
         },
         {
          "font": {
           "size": 16
          },
          "showarrow": false,
          "text": "Topic 2",
          "x": 0.6375000000000001,
          "xanchor": "center",
          "xref": "paper",
          "y": 1,
          "yanchor": "bottom",
          "yref": "paper"
         },
         {
          "font": {
           "size": 16
          },
          "showarrow": false,
          "text": "Topic 3",
          "x": 0.9125,
          "xanchor": "center",
          "xref": "paper",
          "y": 1,
          "yanchor": "bottom",
          "yref": "paper"
         },
         {
          "font": {
           "size": 16
          },
          "showarrow": false,
          "text": "Topic 4",
          "x": 0.0875,
          "xanchor": "center",
          "xref": "paper",
          "y": 0.6222222222222222,
          "yanchor": "bottom",
          "yref": "paper"
         },
         {
          "font": {
           "size": 16
          },
          "showarrow": false,
          "text": "Topic 5",
          "x": 0.36250000000000004,
          "xanchor": "center",
          "xref": "paper",
          "y": 0.6222222222222222,
          "yanchor": "bottom",
          "yref": "paper"
         },
         {
          "font": {
           "size": 16
          },
          "showarrow": false,
          "text": "Topic 6",
          "x": 0.6375000000000001,
          "xanchor": "center",
          "xref": "paper",
          "y": 0.6222222222222222,
          "yanchor": "bottom",
          "yref": "paper"
         },
         {
          "font": {
           "size": 16
          },
          "showarrow": false,
          "text": "Topic 7",
          "x": 0.9125,
          "xanchor": "center",
          "xref": "paper",
          "y": 0.6222222222222222,
          "yanchor": "bottom",
          "yref": "paper"
         },
         {
          "font": {
           "size": 16
          },
          "showarrow": false,
          "text": "Topic 8",
          "x": 0.0875,
          "xanchor": "center",
          "xref": "paper",
          "y": 0.24444444444444446,
          "yanchor": "bottom",
          "yref": "paper"
         },
         {
          "font": {
           "size": 16
          },
          "showarrow": false,
          "text": "Topic 9",
          "x": 0.36250000000000004,
          "xanchor": "center",
          "xref": "paper",
          "y": 0.24444444444444446,
          "yanchor": "bottom",
          "yref": "paper"
         }
        ],
        "height": 750,
        "hoverlabel": {
         "bgcolor": "white",
         "font": {
          "family": "Rockwell",
          "size": 16
         }
        },
        "showlegend": false,
        "template": {
         "data": {
          "bar": [
           {
            "error_x": {
             "color": "#2a3f5f"
            },
            "error_y": {
             "color": "#2a3f5f"
            },
            "marker": {
             "line": {
              "color": "white",
              "width": 0.5
             },
             "pattern": {
              "fillmode": "overlay",
              "size": 10,
              "solidity": 0.2
             }
            },
            "type": "bar"
           }
          ],
          "barpolar": [
           {
            "marker": {
             "line": {
              "color": "white",
              "width": 0.5
             },
             "pattern": {
              "fillmode": "overlay",
              "size": 10,
              "solidity": 0.2
             }
            },
            "type": "barpolar"
           }
          ],
          "carpet": [
           {
            "aaxis": {
             "endlinecolor": "#2a3f5f",
             "gridcolor": "#C8D4E3",
             "linecolor": "#C8D4E3",
             "minorgridcolor": "#C8D4E3",
             "startlinecolor": "#2a3f5f"
            },
            "baxis": {
             "endlinecolor": "#2a3f5f",
             "gridcolor": "#C8D4E3",
             "linecolor": "#C8D4E3",
             "minorgridcolor": "#C8D4E3",
             "startlinecolor": "#2a3f5f"
            },
            "type": "carpet"
           }
          ],
          "choropleth": [
           {
            "colorbar": {
             "outlinewidth": 0,
             "ticks": ""
            },
            "type": "choropleth"
           }
          ],
          "contour": [
           {
            "colorbar": {
             "outlinewidth": 0,
             "ticks": ""
            },
            "colorscale": [
             [
              0,
              "#0d0887"
             ],
             [
              0.1111111111111111,
              "#46039f"
             ],
             [
              0.2222222222222222,
              "#7201a8"
             ],
             [
              0.3333333333333333,
              "#9c179e"
             ],
             [
              0.4444444444444444,
              "#bd3786"
             ],
             [
              0.5555555555555556,
              "#d8576b"
             ],
             [
              0.6666666666666666,
              "#ed7953"
             ],
             [
              0.7777777777777778,
              "#fb9f3a"
             ],
             [
              0.8888888888888888,
              "#fdca26"
             ],
             [
              1,
              "#f0f921"
             ]
            ],
            "type": "contour"
           }
          ],
          "contourcarpet": [
           {
            "colorbar": {
             "outlinewidth": 0,
             "ticks": ""
            },
            "type": "contourcarpet"
           }
          ],
          "heatmap": [
           {
            "colorbar": {
             "outlinewidth": 0,
             "ticks": ""
            },
            "colorscale": [
             [
              0,
              "#0d0887"
             ],
             [
              0.1111111111111111,
              "#46039f"
             ],
             [
              0.2222222222222222,
              "#7201a8"
             ],
             [
              0.3333333333333333,
              "#9c179e"
             ],
             [
              0.4444444444444444,
              "#bd3786"
             ],
             [
              0.5555555555555556,
              "#d8576b"
             ],
             [
              0.6666666666666666,
              "#ed7953"
             ],
             [
              0.7777777777777778,
              "#fb9f3a"
             ],
             [
              0.8888888888888888,
              "#fdca26"
             ],
             [
              1,
              "#f0f921"
             ]
            ],
            "type": "heatmap"
           }
          ],
          "heatmapgl": [
           {
            "colorbar": {
             "outlinewidth": 0,
             "ticks": ""
            },
            "colorscale": [
             [
              0,
              "#0d0887"
             ],
             [
              0.1111111111111111,
              "#46039f"
             ],
             [
              0.2222222222222222,
              "#7201a8"
             ],
             [
              0.3333333333333333,
              "#9c179e"
             ],
             [
              0.4444444444444444,
              "#bd3786"
             ],
             [
              0.5555555555555556,
              "#d8576b"
             ],
             [
              0.6666666666666666,
              "#ed7953"
             ],
             [
              0.7777777777777778,
              "#fb9f3a"
             ],
             [
              0.8888888888888888,
              "#fdca26"
             ],
             [
              1,
              "#f0f921"
             ]
            ],
            "type": "heatmapgl"
           }
          ],
          "histogram": [
           {
            "marker": {
             "pattern": {
              "fillmode": "overlay",
              "size": 10,
              "solidity": 0.2
             }
            },
            "type": "histogram"
           }
          ],
          "histogram2d": [
           {
            "colorbar": {
             "outlinewidth": 0,
             "ticks": ""
            },
            "colorscale": [
             [
              0,
              "#0d0887"
             ],
             [
              0.1111111111111111,
              "#46039f"
             ],
             [
              0.2222222222222222,
              "#7201a8"
             ],
             [
              0.3333333333333333,
              "#9c179e"
             ],
             [
              0.4444444444444444,
              "#bd3786"
             ],
             [
              0.5555555555555556,
              "#d8576b"
             ],
             [
              0.6666666666666666,
              "#ed7953"
             ],
             [
              0.7777777777777778,
              "#fb9f3a"
             ],
             [
              0.8888888888888888,
              "#fdca26"
             ],
             [
              1,
              "#f0f921"
             ]
            ],
            "type": "histogram2d"
           }
          ],
          "histogram2dcontour": [
           {
            "colorbar": {
             "outlinewidth": 0,
             "ticks": ""
            },
            "colorscale": [
             [
              0,
              "#0d0887"
             ],
             [
              0.1111111111111111,
              "#46039f"
             ],
             [
              0.2222222222222222,
              "#7201a8"
             ],
             [
              0.3333333333333333,
              "#9c179e"
             ],
             [
              0.4444444444444444,
              "#bd3786"
             ],
             [
              0.5555555555555556,
              "#d8576b"
             ],
             [
              0.6666666666666666,
              "#ed7953"
             ],
             [
              0.7777777777777778,
              "#fb9f3a"
             ],
             [
              0.8888888888888888,
              "#fdca26"
             ],
             [
              1,
              "#f0f921"
             ]
            ],
            "type": "histogram2dcontour"
           }
          ],
          "mesh3d": [
           {
            "colorbar": {
             "outlinewidth": 0,
             "ticks": ""
            },
            "type": "mesh3d"
           }
          ],
          "parcoords": [
           {
            "line": {
             "colorbar": {
              "outlinewidth": 0,
              "ticks": ""
             }
            },
            "type": "parcoords"
           }
          ],
          "pie": [
           {
            "automargin": true,
            "type": "pie"
           }
          ],
          "scatter": [
           {
            "fillpattern": {
             "fillmode": "overlay",
             "size": 10,
             "solidity": 0.2
            },
            "type": "scatter"
           }
          ],
          "scatter3d": [
           {
            "line": {
             "colorbar": {
              "outlinewidth": 0,
              "ticks": ""
             }
            },
            "marker": {
             "colorbar": {
              "outlinewidth": 0,
              "ticks": ""
             }
            },
            "type": "scatter3d"
           }
          ],
          "scattercarpet": [
           {
            "marker": {
             "colorbar": {
              "outlinewidth": 0,
              "ticks": ""
             }
            },
            "type": "scattercarpet"
           }
          ],
          "scattergeo": [
           {
            "marker": {
             "colorbar": {
              "outlinewidth": 0,
              "ticks": ""
             }
            },
            "type": "scattergeo"
           }
          ],
          "scattergl": [
           {
            "marker": {
             "colorbar": {
              "outlinewidth": 0,
              "ticks": ""
             }
            },
            "type": "scattergl"
           }
          ],
          "scattermapbox": [
           {
            "marker": {
             "colorbar": {
              "outlinewidth": 0,
              "ticks": ""
             }
            },
            "type": "scattermapbox"
           }
          ],
          "scatterpolar": [
           {
            "marker": {
             "colorbar": {
              "outlinewidth": 0,
              "ticks": ""
             }
            },
            "type": "scatterpolar"
           }
          ],
          "scatterpolargl": [
           {
            "marker": {
             "colorbar": {
              "outlinewidth": 0,
              "ticks": ""
             }
            },
            "type": "scatterpolargl"
           }
          ],
          "scatterternary": [
           {
            "marker": {
             "colorbar": {
              "outlinewidth": 0,
              "ticks": ""
             }
            },
            "type": "scatterternary"
           }
          ],
          "surface": [
           {
            "colorbar": {
             "outlinewidth": 0,
             "ticks": ""
            },
            "colorscale": [
             [
              0,
              "#0d0887"
             ],
             [
              0.1111111111111111,
              "#46039f"
             ],
             [
              0.2222222222222222,
              "#7201a8"
             ],
             [
              0.3333333333333333,
              "#9c179e"
             ],
             [
              0.4444444444444444,
              "#bd3786"
             ],
             [
              0.5555555555555556,
              "#d8576b"
             ],
             [
              0.6666666666666666,
              "#ed7953"
             ],
             [
              0.7777777777777778,
              "#fb9f3a"
             ],
             [
              0.8888888888888888,
              "#fdca26"
             ],
             [
              1,
              "#f0f921"
             ]
            ],
            "type": "surface"
           }
          ],
          "table": [
           {
            "cells": {
             "fill": {
              "color": "#EBF0F8"
             },
             "line": {
              "color": "white"
             }
            },
            "header": {
             "fill": {
              "color": "#C8D4E3"
             },
             "line": {
              "color": "white"
             }
            },
            "type": "table"
           }
          ]
         },
         "layout": {
          "annotationdefaults": {
           "arrowcolor": "#2a3f5f",
           "arrowhead": 0,
           "arrowwidth": 1
          },
          "autotypenumbers": "strict",
          "coloraxis": {
           "colorbar": {
            "outlinewidth": 0,
            "ticks": ""
           }
          },
          "colorscale": {
           "diverging": [
            [
             0,
             "#8e0152"
            ],
            [
             0.1,
             "#c51b7d"
            ],
            [
             0.2,
             "#de77ae"
            ],
            [
             0.3,
             "#f1b6da"
            ],
            [
             0.4,
             "#fde0ef"
            ],
            [
             0.5,
             "#f7f7f7"
            ],
            [
             0.6,
             "#e6f5d0"
            ],
            [
             0.7,
             "#b8e186"
            ],
            [
             0.8,
             "#7fbc41"
            ],
            [
             0.9,
             "#4d9221"
            ],
            [
             1,
             "#276419"
            ]
           ],
           "sequential": [
            [
             0,
             "#0d0887"
            ],
            [
             0.1111111111111111,
             "#46039f"
            ],
            [
             0.2222222222222222,
             "#7201a8"
            ],
            [
             0.3333333333333333,
             "#9c179e"
            ],
            [
             0.4444444444444444,
             "#bd3786"
            ],
            [
             0.5555555555555556,
             "#d8576b"
            ],
            [
             0.6666666666666666,
             "#ed7953"
            ],
            [
             0.7777777777777778,
             "#fb9f3a"
            ],
            [
             0.8888888888888888,
             "#fdca26"
            ],
            [
             1,
             "#f0f921"
            ]
           ],
           "sequentialminus": [
            [
             0,
             "#0d0887"
            ],
            [
             0.1111111111111111,
             "#46039f"
            ],
            [
             0.2222222222222222,
             "#7201a8"
            ],
            [
             0.3333333333333333,
             "#9c179e"
            ],
            [
             0.4444444444444444,
             "#bd3786"
            ],
            [
             0.5555555555555556,
             "#d8576b"
            ],
            [
             0.6666666666666666,
             "#ed7953"
            ],
            [
             0.7777777777777778,
             "#fb9f3a"
            ],
            [
             0.8888888888888888,
             "#fdca26"
            ],
            [
             1,
             "#f0f921"
            ]
           ]
          },
          "colorway": [
           "#636efa",
           "#EF553B",
           "#00cc96",
           "#ab63fa",
           "#FFA15A",
           "#19d3f3",
           "#FF6692",
           "#B6E880",
           "#FF97FF",
           "#FECB52"
          ],
          "font": {
           "color": "#2a3f5f"
          },
          "geo": {
           "bgcolor": "white",
           "lakecolor": "white",
           "landcolor": "white",
           "showlakes": true,
           "showland": true,
           "subunitcolor": "#C8D4E3"
          },
          "hoverlabel": {
           "align": "left"
          },
          "hovermode": "closest",
          "mapbox": {
           "style": "light"
          },
          "paper_bgcolor": "white",
          "plot_bgcolor": "white",
          "polar": {
           "angularaxis": {
            "gridcolor": "#EBF0F8",
            "linecolor": "#EBF0F8",
            "ticks": ""
           },
           "bgcolor": "white",
           "radialaxis": {
            "gridcolor": "#EBF0F8",
            "linecolor": "#EBF0F8",
            "ticks": ""
           }
          },
          "scene": {
           "xaxis": {
            "backgroundcolor": "white",
            "gridcolor": "#DFE8F3",
            "gridwidth": 2,
            "linecolor": "#EBF0F8",
            "showbackground": true,
            "ticks": "",
            "zerolinecolor": "#EBF0F8"
           },
           "yaxis": {
            "backgroundcolor": "white",
            "gridcolor": "#DFE8F3",
            "gridwidth": 2,
            "linecolor": "#EBF0F8",
            "showbackground": true,
            "ticks": "",
            "zerolinecolor": "#EBF0F8"
           },
           "zaxis": {
            "backgroundcolor": "white",
            "gridcolor": "#DFE8F3",
            "gridwidth": 2,
            "linecolor": "#EBF0F8",
            "showbackground": true,
            "ticks": "",
            "zerolinecolor": "#EBF0F8"
           }
          },
          "shapedefaults": {
           "line": {
            "color": "#2a3f5f"
           }
          },
          "ternary": {
           "aaxis": {
            "gridcolor": "#DFE8F3",
            "linecolor": "#A2B1C6",
            "ticks": ""
           },
           "baxis": {
            "gridcolor": "#DFE8F3",
            "linecolor": "#A2B1C6",
            "ticks": ""
           },
           "bgcolor": "white",
           "caxis": {
            "gridcolor": "#DFE8F3",
            "linecolor": "#A2B1C6",
            "ticks": ""
           }
          },
          "title": {
           "x": 0.05
          },
          "xaxis": {
           "automargin": true,
           "gridcolor": "#EBF0F8",
           "linecolor": "#EBF0F8",
           "ticks": "",
           "title": {
            "standoff": 15
           },
           "zerolinecolor": "#EBF0F8",
           "zerolinewidth": 2
          },
          "yaxis": {
           "automargin": true,
           "gridcolor": "#EBF0F8",
           "linecolor": "#EBF0F8",
           "ticks": "",
           "title": {
            "standoff": 15
           },
           "zerolinecolor": "#EBF0F8",
           "zerolinewidth": 2
          }
         }
        },
        "title": {
         "font": {
          "color": "Black",
          "size": 22
         },
         "text": "Topic Word Scores",
         "x": 0.5,
         "xanchor": "center",
         "yanchor": "top"
        },
        "width": 1440,
        "xaxis": {
         "anchor": "y",
         "domain": [
          0,
          0.175
         ],
         "showgrid": true
        },
        "xaxis10": {
         "anchor": "y10",
         "domain": [
          0.275,
          0.45
         ],
         "showgrid": true
        },
        "xaxis11": {
         "anchor": "y11",
         "domain": [
          0.55,
          0.7250000000000001
         ],
         "showgrid": true
        },
        "xaxis12": {
         "anchor": "y12",
         "domain": [
          0.825,
          1
         ],
         "showgrid": true
        },
        "xaxis2": {
         "anchor": "y2",
         "domain": [
          0.275,
          0.45
         ],
         "showgrid": true
        },
        "xaxis3": {
         "anchor": "y3",
         "domain": [
          0.55,
          0.7250000000000001
         ],
         "showgrid": true
        },
        "xaxis4": {
         "anchor": "y4",
         "domain": [
          0.825,
          1
         ],
         "showgrid": true
        },
        "xaxis5": {
         "anchor": "y5",
         "domain": [
          0,
          0.175
         ],
         "showgrid": true
        },
        "xaxis6": {
         "anchor": "y6",
         "domain": [
          0.275,
          0.45
         ],
         "showgrid": true
        },
        "xaxis7": {
         "anchor": "y7",
         "domain": [
          0.55,
          0.7250000000000001
         ],
         "showgrid": true
        },
        "xaxis8": {
         "anchor": "y8",
         "domain": [
          0.825,
          1
         ],
         "showgrid": true
        },
        "xaxis9": {
         "anchor": "y9",
         "domain": [
          0,
          0.175
         ],
         "showgrid": true
        },
        "yaxis": {
         "anchor": "x",
         "domain": [
          0.7555555555555555,
          1
         ],
         "showgrid": true
        },
        "yaxis10": {
         "anchor": "x10",
         "domain": [
          0,
          0.24444444444444446
         ],
         "showgrid": true
        },
        "yaxis11": {
         "anchor": "x11",
         "domain": [
          0,
          0.24444444444444446
         ],
         "showgrid": true
        },
        "yaxis12": {
         "anchor": "x12",
         "domain": [
          0,
          0.24444444444444446
         ],
         "showgrid": true
        },
        "yaxis2": {
         "anchor": "x2",
         "domain": [
          0.7555555555555555,
          1
         ],
         "showgrid": true
        },
        "yaxis3": {
         "anchor": "x3",
         "domain": [
          0.7555555555555555,
          1
         ],
         "showgrid": true
        },
        "yaxis4": {
         "anchor": "x4",
         "domain": [
          0.7555555555555555,
          1
         ],
         "showgrid": true
        },
        "yaxis5": {
         "anchor": "x5",
         "domain": [
          0.37777777777777777,
          0.6222222222222222
         ],
         "showgrid": true
        },
        "yaxis6": {
         "anchor": "x6",
         "domain": [
          0.37777777777777777,
          0.6222222222222222
         ],
         "showgrid": true
        },
        "yaxis7": {
         "anchor": "x7",
         "domain": [
          0.37777777777777777,
          0.6222222222222222
         ],
         "showgrid": true
        },
        "yaxis8": {
         "anchor": "x8",
         "domain": [
          0.37777777777777777,
          0.6222222222222222
         ],
         "showgrid": true
        },
        "yaxis9": {
         "anchor": "x9",
         "domain": [
          0,
          0.24444444444444446
         ],
         "showgrid": true
        }
       }
      },
      "text/html": [
       "<div>                            <div id=\"7abdbf06-30c7-4baf-a090-119eaf56263a\" class=\"plotly-graph-div\" style=\"height:750px; width:1440px;\"></div>            <script type=\"text/javascript\">                require([\"plotly\"], function(Plotly) {                    window.PLOTLYENV=window.PLOTLYENV || {};                                    if (document.getElementById(\"7abdbf06-30c7-4baf-a090-119eaf56263a\")) {                    Plotly.newPlot(                        \"7abdbf06-30c7-4baf-a090-119eaf56263a\",                        [{\"marker\":{\"color\":\"#D55E00\"},\"orientation\":\"h\",\"x\":[0.020144413710503878,0.02188708105416041,0.023165977514990978,0.03251265261507549,0.05133884678327255],\"y\":[\"access  \",\"data  \",\"ros  \",\"robots  \",\"robot  \"],\"type\":\"bar\",\"xaxis\":\"x\",\"yaxis\":\"y\"},{\"marker\":{\"color\":\"#0072B2\"},\"orientation\":\"h\",\"x\":[0.02492667877874335,0.02850909582176614,0.04119360234471249,0.059575014070081776,0.06562221724683716],\"y\":[\"using  \",\"access  \",\"network  \",\"password  \",\"wifi  \"],\"type\":\"bar\",\"xaxis\":\"x2\",\"yaxis\":\"y2\"},{\"marker\":{\"color\":\"#CC79A7\"},\"orientation\":\"h\",\"x\":[0.024770757194404146,0.025756037911550813,0.029615411468378938,0.04171751980751341,0.042572623210815654],\"y\":[\"dos  \",\"access  \",\"attack  \",\"attacks  \",\"data  \"],\"type\":\"bar\",\"xaxis\":\"x3\",\"yaxis\":\"y3\"},{\"marker\":{\"color\":\"#E69F00\"},\"orientation\":\"h\",\"x\":[0.039669295880367786,0.04291495996747641,0.04803380407985622,0.06810461032418967,0.11592390480343039],\"y\":[\"ros network  \",\"ros master  \",\"nodes  \",\"master  \",\"ros  \"],\"type\":\"bar\",\"xaxis\":\"x4\",\"yaxis\":\"y4\"},{\"marker\":{\"color\":\"#56B4E9\"},\"orientation\":\"h\",\"x\":[0.03596470608935664,0.039438863920441485,0.039891993861742574,0.04426425364843894,0.08891566936136922],\"y\":[\"construction site  \",\"excavator  \",\"excavators  \",\"financial  \",\"construction  \"],\"type\":\"bar\",\"xaxis\":\"x5\",\"yaxis\":\"y5\"},{\"marker\":{\"color\":\"#009E73\"},\"orientation\":\"h\",\"x\":[0.04289403239968837,0.0448146326043278,0.06537090658589151,0.07234213993397706,0.07774543372443517],\"y\":[\"sensor data  \",\"sensors  \",\"data  \",\"sensor  \",\"lidar  \"],\"type\":\"bar\",\"xaxis\":\"x6\",\"yaxis\":\"y6\"},{\"marker\":{\"color\":\"#F0E442\"},\"orientation\":\"h\",\"x\":[0.06651131828677967,0.09168344086630395,0.12861153587483826,0.13098993491618152,0.15474308645385493],\"y\":[\"firmware update  \",\"software  \",\"update  \",\"updates  \",\"firmware  \"],\"type\":\"bar\",\"xaxis\":\"x7\",\"yaxis\":\"y7\"},{\"marker\":{\"color\":\"#D55E00\"},\"orientation\":\"h\",\"x\":[0.07849451757498047,0.09496115765608193,0.14751863789293837,0.15012911146525645,0.1801352515328319],\"y\":[\"monitor  \",\"suspicious  \",\"detection  \",\"intrusion detection  \",\"intrusion  \"],\"type\":\"bar\",\"xaxis\":\"x8\",\"yaxis\":\"y8\"},{\"marker\":{\"color\":\"#0072B2\"},\"orientation\":\"h\",\"x\":[0.06069844674974049,0.06997332397423459,0.07154930547293059,0.09360604878780864,0.09896157295933088],\"y\":[\"gain  \",\"competitive  \",\"advantage  \",\"construction  \",\"project  \"],\"type\":\"bar\",\"xaxis\":\"x9\",\"yaxis\":\"y9\"},{\"marker\":{\"color\":\"#CC79A7\"},\"orientation\":\"h\",\"x\":[0.06199660385692202,0.0785519543462571,0.0785519543462571,0.08874580760375532,0.18628735975639085],\"y\":[\"hidden  \",\"steganography  \",\"image  \",\"images  \",\"malware  \"],\"type\":\"bar\",\"xaxis\":\"x10\",\"yaxis\":\"y10\"}],                        {\"template\":{\"data\":{\"barpolar\":[{\"marker\":{\"line\":{\"color\":\"white\",\"width\":0.5},\"pattern\":{\"fillmode\":\"overlay\",\"size\":10,\"solidity\":0.2}},\"type\":\"barpolar\"}],\"bar\":[{\"error_x\":{\"color\":\"#2a3f5f\"},\"error_y\":{\"color\":\"#2a3f5f\"},\"marker\":{\"line\":{\"color\":\"white\",\"width\":0.5},\"pattern\":{\"fillmode\":\"overlay\",\"size\":10,\"solidity\":0.2}},\"type\":\"bar\"}],\"carpet\":[{\"aaxis\":{\"endlinecolor\":\"#2a3f5f\",\"gridcolor\":\"#C8D4E3\",\"linecolor\":\"#C8D4E3\",\"minorgridcolor\":\"#C8D4E3\",\"startlinecolor\":\"#2a3f5f\"},\"baxis\":{\"endlinecolor\":\"#2a3f5f\",\"gridcolor\":\"#C8D4E3\",\"linecolor\":\"#C8D4E3\",\"minorgridcolor\":\"#C8D4E3\",\"startlinecolor\":\"#2a3f5f\"},\"type\":\"carpet\"}],\"choropleth\":[{\"colorbar\":{\"outlinewidth\":0,\"ticks\":\"\"},\"type\":\"choropleth\"}],\"contourcarpet\":[{\"colorbar\":{\"outlinewidth\":0,\"ticks\":\"\"},\"type\":\"contourcarpet\"}],\"contour\":[{\"colorbar\":{\"outlinewidth\":0,\"ticks\":\"\"},\"colorscale\":[[0.0,\"#0d0887\"],[0.1111111111111111,\"#46039f\"],[0.2222222222222222,\"#7201a8\"],[0.3333333333333333,\"#9c179e\"],[0.4444444444444444,\"#bd3786\"],[0.5555555555555556,\"#d8576b\"],[0.6666666666666666,\"#ed7953\"],[0.7777777777777778,\"#fb9f3a\"],[0.8888888888888888,\"#fdca26\"],[1.0,\"#f0f921\"]],\"type\":\"contour\"}],\"heatmapgl\":[{\"colorbar\":{\"outlinewidth\":0,\"ticks\":\"\"},\"colorscale\":[[0.0,\"#0d0887\"],[0.1111111111111111,\"#46039f\"],[0.2222222222222222,\"#7201a8\"],[0.3333333333333333,\"#9c179e\"],[0.4444444444444444,\"#bd3786\"],[0.5555555555555556,\"#d8576b\"],[0.6666666666666666,\"#ed7953\"],[0.7777777777777778,\"#fb9f3a\"],[0.8888888888888888,\"#fdca26\"],[1.0,\"#f0f921\"]],\"type\":\"heatmapgl\"}],\"heatmap\":[{\"colorbar\":{\"outlinewidth\":0,\"ticks\":\"\"},\"colorscale\":[[0.0,\"#0d0887\"],[0.1111111111111111,\"#46039f\"],[0.2222222222222222,\"#7201a8\"],[0.3333333333333333,\"#9c179e\"],[0.4444444444444444,\"#bd3786\"],[0.5555555555555556,\"#d8576b\"],[0.6666666666666666,\"#ed7953\"],[0.7777777777777778,\"#fb9f3a\"],[0.8888888888888888,\"#fdca26\"],[1.0,\"#f0f921\"]],\"type\":\"heatmap\"}],\"histogram2dcontour\":[{\"colorbar\":{\"outlinewidth\":0,\"ticks\":\"\"},\"colorscale\":[[0.0,\"#0d0887\"],[0.1111111111111111,\"#46039f\"],[0.2222222222222222,\"#7201a8\"],[0.3333333333333333,\"#9c179e\"],[0.4444444444444444,\"#bd3786\"],[0.5555555555555556,\"#d8576b\"],[0.6666666666666666,\"#ed7953\"],[0.7777777777777778,\"#fb9f3a\"],[0.8888888888888888,\"#fdca26\"],[1.0,\"#f0f921\"]],\"type\":\"histogram2dcontour\"}],\"histogram2d\":[{\"colorbar\":{\"outlinewidth\":0,\"ticks\":\"\"},\"colorscale\":[[0.0,\"#0d0887\"],[0.1111111111111111,\"#46039f\"],[0.2222222222222222,\"#7201a8\"],[0.3333333333333333,\"#9c179e\"],[0.4444444444444444,\"#bd3786\"],[0.5555555555555556,\"#d8576b\"],[0.6666666666666666,\"#ed7953\"],[0.7777777777777778,\"#fb9f3a\"],[0.8888888888888888,\"#fdca26\"],[1.0,\"#f0f921\"]],\"type\":\"histogram2d\"}],\"histogram\":[{\"marker\":{\"pattern\":{\"fillmode\":\"overlay\",\"size\":10,\"solidity\":0.2}},\"type\":\"histogram\"}],\"mesh3d\":[{\"colorbar\":{\"outlinewidth\":0,\"ticks\":\"\"},\"type\":\"mesh3d\"}],\"parcoords\":[{\"line\":{\"colorbar\":{\"outlinewidth\":0,\"ticks\":\"\"}},\"type\":\"parcoords\"}],\"pie\":[{\"automargin\":true,\"type\":\"pie\"}],\"scatter3d\":[{\"line\":{\"colorbar\":{\"outlinewidth\":0,\"ticks\":\"\"}},\"marker\":{\"colorbar\":{\"outlinewidth\":0,\"ticks\":\"\"}},\"type\":\"scatter3d\"}],\"scattercarpet\":[{\"marker\":{\"colorbar\":{\"outlinewidth\":0,\"ticks\":\"\"}},\"type\":\"scattercarpet\"}],\"scattergeo\":[{\"marker\":{\"colorbar\":{\"outlinewidth\":0,\"ticks\":\"\"}},\"type\":\"scattergeo\"}],\"scattergl\":[{\"marker\":{\"colorbar\":{\"outlinewidth\":0,\"ticks\":\"\"}},\"type\":\"scattergl\"}],\"scattermapbox\":[{\"marker\":{\"colorbar\":{\"outlinewidth\":0,\"ticks\":\"\"}},\"type\":\"scattermapbox\"}],\"scatterpolargl\":[{\"marker\":{\"colorbar\":{\"outlinewidth\":0,\"ticks\":\"\"}},\"type\":\"scatterpolargl\"}],\"scatterpolar\":[{\"marker\":{\"colorbar\":{\"outlinewidth\":0,\"ticks\":\"\"}},\"type\":\"scatterpolar\"}],\"scatter\":[{\"fillpattern\":{\"fillmode\":\"overlay\",\"size\":10,\"solidity\":0.2},\"type\":\"scatter\"}],\"scatterternary\":[{\"marker\":{\"colorbar\":{\"outlinewidth\":0,\"ticks\":\"\"}},\"type\":\"scatterternary\"}],\"surface\":[{\"colorbar\":{\"outlinewidth\":0,\"ticks\":\"\"},\"colorscale\":[[0.0,\"#0d0887\"],[0.1111111111111111,\"#46039f\"],[0.2222222222222222,\"#7201a8\"],[0.3333333333333333,\"#9c179e\"],[0.4444444444444444,\"#bd3786\"],[0.5555555555555556,\"#d8576b\"],[0.6666666666666666,\"#ed7953\"],[0.7777777777777778,\"#fb9f3a\"],[0.8888888888888888,\"#fdca26\"],[1.0,\"#f0f921\"]],\"type\":\"surface\"}],\"table\":[{\"cells\":{\"fill\":{\"color\":\"#EBF0F8\"},\"line\":{\"color\":\"white\"}},\"header\":{\"fill\":{\"color\":\"#C8D4E3\"},\"line\":{\"color\":\"white\"}},\"type\":\"table\"}]},\"layout\":{\"annotationdefaults\":{\"arrowcolor\":\"#2a3f5f\",\"arrowhead\":0,\"arrowwidth\":1},\"autotypenumbers\":\"strict\",\"coloraxis\":{\"colorbar\":{\"outlinewidth\":0,\"ticks\":\"\"}},\"colorscale\":{\"diverging\":[[0,\"#8e0152\"],[0.1,\"#c51b7d\"],[0.2,\"#de77ae\"],[0.3,\"#f1b6da\"],[0.4,\"#fde0ef\"],[0.5,\"#f7f7f7\"],[0.6,\"#e6f5d0\"],[0.7,\"#b8e186\"],[0.8,\"#7fbc41\"],[0.9,\"#4d9221\"],[1,\"#276419\"]],\"sequential\":[[0.0,\"#0d0887\"],[0.1111111111111111,\"#46039f\"],[0.2222222222222222,\"#7201a8\"],[0.3333333333333333,\"#9c179e\"],[0.4444444444444444,\"#bd3786\"],[0.5555555555555556,\"#d8576b\"],[0.6666666666666666,\"#ed7953\"],[0.7777777777777778,\"#fb9f3a\"],[0.8888888888888888,\"#fdca26\"],[1.0,\"#f0f921\"]],\"sequentialminus\":[[0.0,\"#0d0887\"],[0.1111111111111111,\"#46039f\"],[0.2222222222222222,\"#7201a8\"],[0.3333333333333333,\"#9c179e\"],[0.4444444444444444,\"#bd3786\"],[0.5555555555555556,\"#d8576b\"],[0.6666666666666666,\"#ed7953\"],[0.7777777777777778,\"#fb9f3a\"],[0.8888888888888888,\"#fdca26\"],[1.0,\"#f0f921\"]]},\"colorway\":[\"#636efa\",\"#EF553B\",\"#00cc96\",\"#ab63fa\",\"#FFA15A\",\"#19d3f3\",\"#FF6692\",\"#B6E880\",\"#FF97FF\",\"#FECB52\"],\"font\":{\"color\":\"#2a3f5f\"},\"geo\":{\"bgcolor\":\"white\",\"lakecolor\":\"white\",\"landcolor\":\"white\",\"showlakes\":true,\"showland\":true,\"subunitcolor\":\"#C8D4E3\"},\"hoverlabel\":{\"align\":\"left\"},\"hovermode\":\"closest\",\"mapbox\":{\"style\":\"light\"},\"paper_bgcolor\":\"white\",\"plot_bgcolor\":\"white\",\"polar\":{\"angularaxis\":{\"gridcolor\":\"#EBF0F8\",\"linecolor\":\"#EBF0F8\",\"ticks\":\"\"},\"bgcolor\":\"white\",\"radialaxis\":{\"gridcolor\":\"#EBF0F8\",\"linecolor\":\"#EBF0F8\",\"ticks\":\"\"}},\"scene\":{\"xaxis\":{\"backgroundcolor\":\"white\",\"gridcolor\":\"#DFE8F3\",\"gridwidth\":2,\"linecolor\":\"#EBF0F8\",\"showbackground\":true,\"ticks\":\"\",\"zerolinecolor\":\"#EBF0F8\"},\"yaxis\":{\"backgroundcolor\":\"white\",\"gridcolor\":\"#DFE8F3\",\"gridwidth\":2,\"linecolor\":\"#EBF0F8\",\"showbackground\":true,\"ticks\":\"\",\"zerolinecolor\":\"#EBF0F8\"},\"zaxis\":{\"backgroundcolor\":\"white\",\"gridcolor\":\"#DFE8F3\",\"gridwidth\":2,\"linecolor\":\"#EBF0F8\",\"showbackground\":true,\"ticks\":\"\",\"zerolinecolor\":\"#EBF0F8\"}},\"shapedefaults\":{\"line\":{\"color\":\"#2a3f5f\"}},\"ternary\":{\"aaxis\":{\"gridcolor\":\"#DFE8F3\",\"linecolor\":\"#A2B1C6\",\"ticks\":\"\"},\"baxis\":{\"gridcolor\":\"#DFE8F3\",\"linecolor\":\"#A2B1C6\",\"ticks\":\"\"},\"bgcolor\":\"white\",\"caxis\":{\"gridcolor\":\"#DFE8F3\",\"linecolor\":\"#A2B1C6\",\"ticks\":\"\"}},\"title\":{\"x\":0.05},\"xaxis\":{\"automargin\":true,\"gridcolor\":\"#EBF0F8\",\"linecolor\":\"#EBF0F8\",\"ticks\":\"\",\"title\":{\"standoff\":15},\"zerolinecolor\":\"#EBF0F8\",\"zerolinewidth\":2},\"yaxis\":{\"automargin\":true,\"gridcolor\":\"#EBF0F8\",\"linecolor\":\"#EBF0F8\",\"ticks\":\"\",\"title\":{\"standoff\":15},\"zerolinecolor\":\"#EBF0F8\",\"zerolinewidth\":2}}},\"xaxis\":{\"anchor\":\"y\",\"domain\":[0.0,0.175],\"showgrid\":true},\"yaxis\":{\"anchor\":\"x\",\"domain\":[0.7555555555555555,1.0],\"showgrid\":true},\"xaxis2\":{\"anchor\":\"y2\",\"domain\":[0.275,0.45],\"showgrid\":true},\"yaxis2\":{\"anchor\":\"x2\",\"domain\":[0.7555555555555555,1.0],\"showgrid\":true},\"xaxis3\":{\"anchor\":\"y3\",\"domain\":[0.55,0.7250000000000001],\"showgrid\":true},\"yaxis3\":{\"anchor\":\"x3\",\"domain\":[0.7555555555555555,1.0],\"showgrid\":true},\"xaxis4\":{\"anchor\":\"y4\",\"domain\":[0.825,1.0],\"showgrid\":true},\"yaxis4\":{\"anchor\":\"x4\",\"domain\":[0.7555555555555555,1.0],\"showgrid\":true},\"xaxis5\":{\"anchor\":\"y5\",\"domain\":[0.0,0.175],\"showgrid\":true},\"yaxis5\":{\"anchor\":\"x5\",\"domain\":[0.37777777777777777,0.6222222222222222],\"showgrid\":true},\"xaxis6\":{\"anchor\":\"y6\",\"domain\":[0.275,0.45],\"showgrid\":true},\"yaxis6\":{\"anchor\":\"x6\",\"domain\":[0.37777777777777777,0.6222222222222222],\"showgrid\":true},\"xaxis7\":{\"anchor\":\"y7\",\"domain\":[0.55,0.7250000000000001],\"showgrid\":true},\"yaxis7\":{\"anchor\":\"x7\",\"domain\":[0.37777777777777777,0.6222222222222222],\"showgrid\":true},\"xaxis8\":{\"anchor\":\"y8\",\"domain\":[0.825,1.0],\"showgrid\":true},\"yaxis8\":{\"anchor\":\"x8\",\"domain\":[0.37777777777777777,0.6222222222222222],\"showgrid\":true},\"xaxis9\":{\"anchor\":\"y9\",\"domain\":[0.0,0.175],\"showgrid\":true},\"yaxis9\":{\"anchor\":\"x9\",\"domain\":[0.0,0.24444444444444446],\"showgrid\":true},\"xaxis10\":{\"anchor\":\"y10\",\"domain\":[0.275,0.45],\"showgrid\":true},\"yaxis10\":{\"anchor\":\"x10\",\"domain\":[0.0,0.24444444444444446],\"showgrid\":true},\"xaxis11\":{\"anchor\":\"y11\",\"domain\":[0.55,0.7250000000000001],\"showgrid\":true},\"yaxis11\":{\"anchor\":\"x11\",\"domain\":[0.0,0.24444444444444446],\"showgrid\":true},\"xaxis12\":{\"anchor\":\"y12\",\"domain\":[0.825,1.0],\"showgrid\":true},\"yaxis12\":{\"anchor\":\"x12\",\"domain\":[0.0,0.24444444444444446],\"showgrid\":true},\"annotations\":[{\"font\":{\"size\":16},\"showarrow\":false,\"text\":\"Topic 0\",\"x\":0.0875,\"xanchor\":\"center\",\"xref\":\"paper\",\"y\":1.0,\"yanchor\":\"bottom\",\"yref\":\"paper\"},{\"font\":{\"size\":16},\"showarrow\":false,\"text\":\"Topic 1\",\"x\":0.36250000000000004,\"xanchor\":\"center\",\"xref\":\"paper\",\"y\":1.0,\"yanchor\":\"bottom\",\"yref\":\"paper\"},{\"font\":{\"size\":16},\"showarrow\":false,\"text\":\"Topic 2\",\"x\":0.6375000000000001,\"xanchor\":\"center\",\"xref\":\"paper\",\"y\":1.0,\"yanchor\":\"bottom\",\"yref\":\"paper\"},{\"font\":{\"size\":16},\"showarrow\":false,\"text\":\"Topic 3\",\"x\":0.9125,\"xanchor\":\"center\",\"xref\":\"paper\",\"y\":1.0,\"yanchor\":\"bottom\",\"yref\":\"paper\"},{\"font\":{\"size\":16},\"showarrow\":false,\"text\":\"Topic 4\",\"x\":0.0875,\"xanchor\":\"center\",\"xref\":\"paper\",\"y\":0.6222222222222222,\"yanchor\":\"bottom\",\"yref\":\"paper\"},{\"font\":{\"size\":16},\"showarrow\":false,\"text\":\"Topic 5\",\"x\":0.36250000000000004,\"xanchor\":\"center\",\"xref\":\"paper\",\"y\":0.6222222222222222,\"yanchor\":\"bottom\",\"yref\":\"paper\"},{\"font\":{\"size\":16},\"showarrow\":false,\"text\":\"Topic 6\",\"x\":0.6375000000000001,\"xanchor\":\"center\",\"xref\":\"paper\",\"y\":0.6222222222222222,\"yanchor\":\"bottom\",\"yref\":\"paper\"},{\"font\":{\"size\":16},\"showarrow\":false,\"text\":\"Topic 7\",\"x\":0.9125,\"xanchor\":\"center\",\"xref\":\"paper\",\"y\":0.6222222222222222,\"yanchor\":\"bottom\",\"yref\":\"paper\"},{\"font\":{\"size\":16},\"showarrow\":false,\"text\":\"Topic 8\",\"x\":0.0875,\"xanchor\":\"center\",\"xref\":\"paper\",\"y\":0.24444444444444446,\"yanchor\":\"bottom\",\"yref\":\"paper\"},{\"font\":{\"size\":16},\"showarrow\":false,\"text\":\"Topic 9\",\"x\":0.36250000000000004,\"xanchor\":\"center\",\"xref\":\"paper\",\"y\":0.24444444444444446,\"yanchor\":\"bottom\",\"yref\":\"paper\"}],\"title\":{\"font\":{\"size\":22,\"color\":\"Black\"},\"text\":\"Topic Word Scores\",\"x\":0.5,\"xanchor\":\"center\",\"yanchor\":\"top\"},\"hoverlabel\":{\"font\":{\"size\":16,\"family\":\"Rockwell\"},\"bgcolor\":\"white\"},\"showlegend\":false,\"width\":1440,\"height\":750},                        {\"responsive\": true}                    ).then(function(){\n",
       "                            \n",
       "var gd = document.getElementById('7abdbf06-30c7-4baf-a090-119eaf56263a');\n",
       "var x = new MutationObserver(function (mutations, observer) {{\n",
       "        var display = window.getComputedStyle(gd).display;\n",
       "        if (!display || display === 'none') {{\n",
       "            console.log([gd, 'removed!']);\n",
       "            Plotly.purge(gd);\n",
       "            observer.disconnect();\n",
       "        }}\n",
       "}});\n",
       "\n",
       "// Listen for the removal of the full notebook cells\n",
       "var notebookContainer = gd.closest('#notebook-container');\n",
       "if (notebookContainer) {{\n",
       "    x.observe(notebookContainer, {childList: true});\n",
       "}}\n",
       "\n",
       "// Listen for the clearing of the current output cell\n",
       "var outputEl = gd.closest('.output');\n",
       "if (outputEl) {{\n",
       "    x.observe(outputEl, {childList: true});\n",
       "}}\n",
       "\n",
       "                        })                };                });            </script>        </div>"
      ]
     },
     "metadata": {},
     "output_type": "display_data"
    }
   ],
   "source": [
    "num_topics = len(set(topics)) - (1 if -1 in topics else 0)\n",
    "fig = model.visualize_barchart(top_n_topics=num_topics, width=360)\n",
    "\n",
    "# Save the figure as a PNG file with specified resolution\n",
    "fig.write_image(\"plot_high_res.png\", width=1800, height=1000, scale=2)\n",
    "\n",
    "model.visualize_barchart(top_n_topics=num_topics, width=360)"
   ]
  },
  {
   "cell_type": "code",
   "execution_count": 88,
   "id": "39265fa9",
   "metadata": {},
   "outputs": [
    {
     "data": {
      "application/vnd.plotly.v1+json": {
       "config": {
        "plotlyServerURL": "https://plot.ly"
       },
       "data": [
        {
         "customdata": [
          [
           0,
           "robot | robots | ros | data | access",
           276
          ],
          [
           1,
           "wifi | password | network | access | using",
           175
          ],
          [
           2,
           "data | attacks | attack | access | dos",
           125
          ],
          [
           3,
           "ros | master | nodes | ros master | ros network",
           94
          ],
          [
           4,
           "construction | financial | excavators | excavator | construction site",
           62
          ],
          [
           5,
           "lidar | sensor | data | sensors | sensor data",
           58
          ],
          [
           6,
           "firmware | updates | update | software | firmware update",
           22
          ],
          [
           7,
           "intrusion | intrusion detection | detection | suspicious | monitor",
           20
          ],
          [
           8,
           "project | construction | advantage | competitive | gain",
           19
          ],
          [
           9,
           "malware | images | image | steganography | hidden",
           14
          ]
         ],
         "hovertemplate": "<b>Topic %{customdata[0]}</b><br>%{customdata[1]}<br>Size: %{customdata[2]}",
         "legendgroup": "",
         "marker": {
          "color": "#B0BEC5",
          "line": {
           "color": "DarkSlateGrey",
           "width": 2
          },
          "size": [
           276,
           175,
           125,
           94,
           62,
           58,
           22,
           20,
           19,
           14
          ],
          "sizemode": "area",
          "sizeref": 0.1725,
          "symbol": "circle"
         },
         "mode": "markers",
         "name": "",
         "orientation": "v",
         "showlegend": false,
         "type": "scatter",
         "x": [
          1.9438308477401733,
          -13.224020957946777,
          -13.182123184204102,
          -12.762937545776367,
          -4.567066669464111,
          2.2271196842193604,
          -13.589150428771973,
          -14.1974458694458,
          -4.843719005584717,
          -13.65932846069336
         ],
         "xaxis": "x",
         "y": [
          0.6084303259849548,
          8.703020095825195,
          7.34048318862915,
          7.752657413482666,
          3.777251958847046,
          0.3252146542072296,
          7.909502029418945,
          8.846985816955566,
          4.055036544799805,
          7.176239967346191
         ],
         "yaxis": "y"
        }
       ],
       "layout": {
        "annotations": [
         {
          "showarrow": false,
          "text": "D1",
          "x": -16.32706274986267,
          "y": 5.225233072787524,
          "yshift": 10
         },
         {
          "showarrow": false,
          "text": "D2",
          "x": -6.882937556505203,
          "xshift": 10,
          "y": 10.174033689498902
         }
        ],
        "height": 650,
        "hoverlabel": {
         "bgcolor": "white",
         "font": {
          "family": "Rockwell",
          "size": 16
         }
        },
        "legend": {
         "itemsizing": "constant",
         "tracegroupgap": 0
        },
        "margin": {
         "t": 60
        },
        "shapes": [
         {
          "line": {
           "color": "#CFD8DC",
           "width": 2
          },
          "type": "line",
          "x0": -6.882937556505203,
          "x1": -6.882937556505203,
          "y0": 0.2764324560761452,
          "y1": 10.174033689498902
         },
         {
          "line": {
           "color": "#9E9E9E",
           "width": 2
          },
          "type": "line",
          "x0": -16.32706274986267,
          "x1": 2.5611876368522646,
          "y0": 5.225233072787524,
          "y1": 5.225233072787524
         }
        ],
        "sliders": [
         {
          "active": 0,
          "pad": {
           "t": 50
          },
          "steps": [
           {
            "args": [
             {
              "marker.color": [
               [
                "red",
                "#B0BEC5",
                "#B0BEC5",
                "#B0BEC5",
                "#B0BEC5",
                "#B0BEC5",
                "#B0BEC5",
                "#B0BEC5",
                "#B0BEC5",
                "#B0BEC5"
               ]
              ]
             }
            ],
            "label": "Topic 0",
            "method": "update"
           },
           {
            "args": [
             {
              "marker.color": [
               [
                "#B0BEC5",
                "red",
                "#B0BEC5",
                "#B0BEC5",
                "#B0BEC5",
                "#B0BEC5",
                "#B0BEC5",
                "#B0BEC5",
                "#B0BEC5",
                "#B0BEC5"
               ]
              ]
             }
            ],
            "label": "Topic 1",
            "method": "update"
           },
           {
            "args": [
             {
              "marker.color": [
               [
                "#B0BEC5",
                "#B0BEC5",
                "red",
                "#B0BEC5",
                "#B0BEC5",
                "#B0BEC5",
                "#B0BEC5",
                "#B0BEC5",
                "#B0BEC5",
                "#B0BEC5"
               ]
              ]
             }
            ],
            "label": "Topic 2",
            "method": "update"
           },
           {
            "args": [
             {
              "marker.color": [
               [
                "#B0BEC5",
                "#B0BEC5",
                "#B0BEC5",
                "red",
                "#B0BEC5",
                "#B0BEC5",
                "#B0BEC5",
                "#B0BEC5",
                "#B0BEC5",
                "#B0BEC5"
               ]
              ]
             }
            ],
            "label": "Topic 3",
            "method": "update"
           },
           {
            "args": [
             {
              "marker.color": [
               [
                "#B0BEC5",
                "#B0BEC5",
                "#B0BEC5",
                "#B0BEC5",
                "red",
                "#B0BEC5",
                "#B0BEC5",
                "#B0BEC5",
                "#B0BEC5",
                "#B0BEC5"
               ]
              ]
             }
            ],
            "label": "Topic 4",
            "method": "update"
           },
           {
            "args": [
             {
              "marker.color": [
               [
                "#B0BEC5",
                "#B0BEC5",
                "#B0BEC5",
                "#B0BEC5",
                "#B0BEC5",
                "red",
                "#B0BEC5",
                "#B0BEC5",
                "#B0BEC5",
                "#B0BEC5"
               ]
              ]
             }
            ],
            "label": "Topic 5",
            "method": "update"
           },
           {
            "args": [
             {
              "marker.color": [
               [
                "#B0BEC5",
                "#B0BEC5",
                "#B0BEC5",
                "#B0BEC5",
                "#B0BEC5",
                "#B0BEC5",
                "red",
                "#B0BEC5",
                "#B0BEC5",
                "#B0BEC5"
               ]
              ]
             }
            ],
            "label": "Topic 6",
            "method": "update"
           },
           {
            "args": [
             {
              "marker.color": [
               [
                "#B0BEC5",
                "#B0BEC5",
                "#B0BEC5",
                "#B0BEC5",
                "#B0BEC5",
                "#B0BEC5",
                "#B0BEC5",
                "red",
                "#B0BEC5",
                "#B0BEC5"
               ]
              ]
             }
            ],
            "label": "Topic 7",
            "method": "update"
           },
           {
            "args": [
             {
              "marker.color": [
               [
                "#B0BEC5",
                "#B0BEC5",
                "#B0BEC5",
                "#B0BEC5",
                "#B0BEC5",
                "#B0BEC5",
                "#B0BEC5",
                "#B0BEC5",
                "red",
                "#B0BEC5"
               ]
              ]
             }
            ],
            "label": "Topic 8",
            "method": "update"
           },
           {
            "args": [
             {
              "marker.color": [
               [
                "#B0BEC5",
                "#B0BEC5",
                "#B0BEC5",
                "#B0BEC5",
                "#B0BEC5",
                "#B0BEC5",
                "#B0BEC5",
                "#B0BEC5",
                "#B0BEC5",
                "red"
               ]
              ]
             }
            ],
            "label": "Topic 9",
            "method": "update"
           }
          ]
         }
        ],
        "template": {
         "data": {
          "bar": [
           {
            "error_x": {
             "color": "rgb(36,36,36)"
            },
            "error_y": {
             "color": "rgb(36,36,36)"
            },
            "marker": {
             "line": {
              "color": "white",
              "width": 0.5
             },
             "pattern": {
              "fillmode": "overlay",
              "size": 10,
              "solidity": 0.2
             }
            },
            "type": "bar"
           }
          ],
          "barpolar": [
           {
            "marker": {
             "line": {
              "color": "white",
              "width": 0.5
             },
             "pattern": {
              "fillmode": "overlay",
              "size": 10,
              "solidity": 0.2
             }
            },
            "type": "barpolar"
           }
          ],
          "carpet": [
           {
            "aaxis": {
             "endlinecolor": "rgb(36,36,36)",
             "gridcolor": "white",
             "linecolor": "white",
             "minorgridcolor": "white",
             "startlinecolor": "rgb(36,36,36)"
            },
            "baxis": {
             "endlinecolor": "rgb(36,36,36)",
             "gridcolor": "white",
             "linecolor": "white",
             "minorgridcolor": "white",
             "startlinecolor": "rgb(36,36,36)"
            },
            "type": "carpet"
           }
          ],
          "choropleth": [
           {
            "colorbar": {
             "outlinewidth": 1,
             "tickcolor": "rgb(36,36,36)",
             "ticks": "outside"
            },
            "type": "choropleth"
           }
          ],
          "contour": [
           {
            "colorbar": {
             "outlinewidth": 1,
             "tickcolor": "rgb(36,36,36)",
             "ticks": "outside"
            },
            "colorscale": [
             [
              0,
              "#440154"
             ],
             [
              0.1111111111111111,
              "#482878"
             ],
             [
              0.2222222222222222,
              "#3e4989"
             ],
             [
              0.3333333333333333,
              "#31688e"
             ],
             [
              0.4444444444444444,
              "#26828e"
             ],
             [
              0.5555555555555556,
              "#1f9e89"
             ],
             [
              0.6666666666666666,
              "#35b779"
             ],
             [
              0.7777777777777778,
              "#6ece58"
             ],
             [
              0.8888888888888888,
              "#b5de2b"
             ],
             [
              1,
              "#fde725"
             ]
            ],
            "type": "contour"
           }
          ],
          "contourcarpet": [
           {
            "colorbar": {
             "outlinewidth": 1,
             "tickcolor": "rgb(36,36,36)",
             "ticks": "outside"
            },
            "type": "contourcarpet"
           }
          ],
          "heatmap": [
           {
            "colorbar": {
             "outlinewidth": 1,
             "tickcolor": "rgb(36,36,36)",
             "ticks": "outside"
            },
            "colorscale": [
             [
              0,
              "#440154"
             ],
             [
              0.1111111111111111,
              "#482878"
             ],
             [
              0.2222222222222222,
              "#3e4989"
             ],
             [
              0.3333333333333333,
              "#31688e"
             ],
             [
              0.4444444444444444,
              "#26828e"
             ],
             [
              0.5555555555555556,
              "#1f9e89"
             ],
             [
              0.6666666666666666,
              "#35b779"
             ],
             [
              0.7777777777777778,
              "#6ece58"
             ],
             [
              0.8888888888888888,
              "#b5de2b"
             ],
             [
              1,
              "#fde725"
             ]
            ],
            "type": "heatmap"
           }
          ],
          "heatmapgl": [
           {
            "colorbar": {
             "outlinewidth": 1,
             "tickcolor": "rgb(36,36,36)",
             "ticks": "outside"
            },
            "colorscale": [
             [
              0,
              "#440154"
             ],
             [
              0.1111111111111111,
              "#482878"
             ],
             [
              0.2222222222222222,
              "#3e4989"
             ],
             [
              0.3333333333333333,
              "#31688e"
             ],
             [
              0.4444444444444444,
              "#26828e"
             ],
             [
              0.5555555555555556,
              "#1f9e89"
             ],
             [
              0.6666666666666666,
              "#35b779"
             ],
             [
              0.7777777777777778,
              "#6ece58"
             ],
             [
              0.8888888888888888,
              "#b5de2b"
             ],
             [
              1,
              "#fde725"
             ]
            ],
            "type": "heatmapgl"
           }
          ],
          "histogram": [
           {
            "marker": {
             "line": {
              "color": "white",
              "width": 0.6
             }
            },
            "type": "histogram"
           }
          ],
          "histogram2d": [
           {
            "colorbar": {
             "outlinewidth": 1,
             "tickcolor": "rgb(36,36,36)",
             "ticks": "outside"
            },
            "colorscale": [
             [
              0,
              "#440154"
             ],
             [
              0.1111111111111111,
              "#482878"
             ],
             [
              0.2222222222222222,
              "#3e4989"
             ],
             [
              0.3333333333333333,
              "#31688e"
             ],
             [
              0.4444444444444444,
              "#26828e"
             ],
             [
              0.5555555555555556,
              "#1f9e89"
             ],
             [
              0.6666666666666666,
              "#35b779"
             ],
             [
              0.7777777777777778,
              "#6ece58"
             ],
             [
              0.8888888888888888,
              "#b5de2b"
             ],
             [
              1,
              "#fde725"
             ]
            ],
            "type": "histogram2d"
           }
          ],
          "histogram2dcontour": [
           {
            "colorbar": {
             "outlinewidth": 1,
             "tickcolor": "rgb(36,36,36)",
             "ticks": "outside"
            },
            "colorscale": [
             [
              0,
              "#440154"
             ],
             [
              0.1111111111111111,
              "#482878"
             ],
             [
              0.2222222222222222,
              "#3e4989"
             ],
             [
              0.3333333333333333,
              "#31688e"
             ],
             [
              0.4444444444444444,
              "#26828e"
             ],
             [
              0.5555555555555556,
              "#1f9e89"
             ],
             [
              0.6666666666666666,
              "#35b779"
             ],
             [
              0.7777777777777778,
              "#6ece58"
             ],
             [
              0.8888888888888888,
              "#b5de2b"
             ],
             [
              1,
              "#fde725"
             ]
            ],
            "type": "histogram2dcontour"
           }
          ],
          "mesh3d": [
           {
            "colorbar": {
             "outlinewidth": 1,
             "tickcolor": "rgb(36,36,36)",
             "ticks": "outside"
            },
            "type": "mesh3d"
           }
          ],
          "parcoords": [
           {
            "line": {
             "colorbar": {
              "outlinewidth": 1,
              "tickcolor": "rgb(36,36,36)",
              "ticks": "outside"
             }
            },
            "type": "parcoords"
           }
          ],
          "pie": [
           {
            "automargin": true,
            "type": "pie"
           }
          ],
          "scatter": [
           {
            "fillpattern": {
             "fillmode": "overlay",
             "size": 10,
             "solidity": 0.2
            },
            "type": "scatter"
           }
          ],
          "scatter3d": [
           {
            "line": {
             "colorbar": {
              "outlinewidth": 1,
              "tickcolor": "rgb(36,36,36)",
              "ticks": "outside"
             }
            },
            "marker": {
             "colorbar": {
              "outlinewidth": 1,
              "tickcolor": "rgb(36,36,36)",
              "ticks": "outside"
             }
            },
            "type": "scatter3d"
           }
          ],
          "scattercarpet": [
           {
            "marker": {
             "colorbar": {
              "outlinewidth": 1,
              "tickcolor": "rgb(36,36,36)",
              "ticks": "outside"
             }
            },
            "type": "scattercarpet"
           }
          ],
          "scattergeo": [
           {
            "marker": {
             "colorbar": {
              "outlinewidth": 1,
              "tickcolor": "rgb(36,36,36)",
              "ticks": "outside"
             }
            },
            "type": "scattergeo"
           }
          ],
          "scattergl": [
           {
            "marker": {
             "colorbar": {
              "outlinewidth": 1,
              "tickcolor": "rgb(36,36,36)",
              "ticks": "outside"
             }
            },
            "type": "scattergl"
           }
          ],
          "scattermapbox": [
           {
            "marker": {
             "colorbar": {
              "outlinewidth": 1,
              "tickcolor": "rgb(36,36,36)",
              "ticks": "outside"
             }
            },
            "type": "scattermapbox"
           }
          ],
          "scatterpolar": [
           {
            "marker": {
             "colorbar": {
              "outlinewidth": 1,
              "tickcolor": "rgb(36,36,36)",
              "ticks": "outside"
             }
            },
            "type": "scatterpolar"
           }
          ],
          "scatterpolargl": [
           {
            "marker": {
             "colorbar": {
              "outlinewidth": 1,
              "tickcolor": "rgb(36,36,36)",
              "ticks": "outside"
             }
            },
            "type": "scatterpolargl"
           }
          ],
          "scatterternary": [
           {
            "marker": {
             "colorbar": {
              "outlinewidth": 1,
              "tickcolor": "rgb(36,36,36)",
              "ticks": "outside"
             }
            },
            "type": "scatterternary"
           }
          ],
          "surface": [
           {
            "colorbar": {
             "outlinewidth": 1,
             "tickcolor": "rgb(36,36,36)",
             "ticks": "outside"
            },
            "colorscale": [
             [
              0,
              "#440154"
             ],
             [
              0.1111111111111111,
              "#482878"
             ],
             [
              0.2222222222222222,
              "#3e4989"
             ],
             [
              0.3333333333333333,
              "#31688e"
             ],
             [
              0.4444444444444444,
              "#26828e"
             ],
             [
              0.5555555555555556,
              "#1f9e89"
             ],
             [
              0.6666666666666666,
              "#35b779"
             ],
             [
              0.7777777777777778,
              "#6ece58"
             ],
             [
              0.8888888888888888,
              "#b5de2b"
             ],
             [
              1,
              "#fde725"
             ]
            ],
            "type": "surface"
           }
          ],
          "table": [
           {
            "cells": {
             "fill": {
              "color": "rgb(237,237,237)"
             },
             "line": {
              "color": "white"
             }
            },
            "header": {
             "fill": {
              "color": "rgb(217,217,217)"
             },
             "line": {
              "color": "white"
             }
            },
            "type": "table"
           }
          ]
         },
         "layout": {
          "annotationdefaults": {
           "arrowhead": 0,
           "arrowwidth": 1
          },
          "autotypenumbers": "strict",
          "coloraxis": {
           "colorbar": {
            "outlinewidth": 1,
            "tickcolor": "rgb(36,36,36)",
            "ticks": "outside"
           }
          },
          "colorscale": {
           "diverging": [
            [
             0,
             "rgb(103,0,31)"
            ],
            [
             0.1,
             "rgb(178,24,43)"
            ],
            [
             0.2,
             "rgb(214,96,77)"
            ],
            [
             0.3,
             "rgb(244,165,130)"
            ],
            [
             0.4,
             "rgb(253,219,199)"
            ],
            [
             0.5,
             "rgb(247,247,247)"
            ],
            [
             0.6,
             "rgb(209,229,240)"
            ],
            [
             0.7,
             "rgb(146,197,222)"
            ],
            [
             0.8,
             "rgb(67,147,195)"
            ],
            [
             0.9,
             "rgb(33,102,172)"
            ],
            [
             1,
             "rgb(5,48,97)"
            ]
           ],
           "sequential": [
            [
             0,
             "#440154"
            ],
            [
             0.1111111111111111,
             "#482878"
            ],
            [
             0.2222222222222222,
             "#3e4989"
            ],
            [
             0.3333333333333333,
             "#31688e"
            ],
            [
             0.4444444444444444,
             "#26828e"
            ],
            [
             0.5555555555555556,
             "#1f9e89"
            ],
            [
             0.6666666666666666,
             "#35b779"
            ],
            [
             0.7777777777777778,
             "#6ece58"
            ],
            [
             0.8888888888888888,
             "#b5de2b"
            ],
            [
             1,
             "#fde725"
            ]
           ],
           "sequentialminus": [
            [
             0,
             "#440154"
            ],
            [
             0.1111111111111111,
             "#482878"
            ],
            [
             0.2222222222222222,
             "#3e4989"
            ],
            [
             0.3333333333333333,
             "#31688e"
            ],
            [
             0.4444444444444444,
             "#26828e"
            ],
            [
             0.5555555555555556,
             "#1f9e89"
            ],
            [
             0.6666666666666666,
             "#35b779"
            ],
            [
             0.7777777777777778,
             "#6ece58"
            ],
            [
             0.8888888888888888,
             "#b5de2b"
            ],
            [
             1,
             "#fde725"
            ]
           ]
          },
          "colorway": [
           "#1F77B4",
           "#FF7F0E",
           "#2CA02C",
           "#D62728",
           "#9467BD",
           "#8C564B",
           "#E377C2",
           "#7F7F7F",
           "#BCBD22",
           "#17BECF"
          ],
          "font": {
           "color": "rgb(36,36,36)"
          },
          "geo": {
           "bgcolor": "white",
           "lakecolor": "white",
           "landcolor": "white",
           "showlakes": true,
           "showland": true,
           "subunitcolor": "white"
          },
          "hoverlabel": {
           "align": "left"
          },
          "hovermode": "closest",
          "mapbox": {
           "style": "light"
          },
          "paper_bgcolor": "white",
          "plot_bgcolor": "white",
          "polar": {
           "angularaxis": {
            "gridcolor": "rgb(232,232,232)",
            "linecolor": "rgb(36,36,36)",
            "showgrid": false,
            "showline": true,
            "ticks": "outside"
           },
           "bgcolor": "white",
           "radialaxis": {
            "gridcolor": "rgb(232,232,232)",
            "linecolor": "rgb(36,36,36)",
            "showgrid": false,
            "showline": true,
            "ticks": "outside"
           }
          },
          "scene": {
           "xaxis": {
            "backgroundcolor": "white",
            "gridcolor": "rgb(232,232,232)",
            "gridwidth": 2,
            "linecolor": "rgb(36,36,36)",
            "showbackground": true,
            "showgrid": false,
            "showline": true,
            "ticks": "outside",
            "zeroline": false,
            "zerolinecolor": "rgb(36,36,36)"
           },
           "yaxis": {
            "backgroundcolor": "white",
            "gridcolor": "rgb(232,232,232)",
            "gridwidth": 2,
            "linecolor": "rgb(36,36,36)",
            "showbackground": true,
            "showgrid": false,
            "showline": true,
            "ticks": "outside",
            "zeroline": false,
            "zerolinecolor": "rgb(36,36,36)"
           },
           "zaxis": {
            "backgroundcolor": "white",
            "gridcolor": "rgb(232,232,232)",
            "gridwidth": 2,
            "linecolor": "rgb(36,36,36)",
            "showbackground": true,
            "showgrid": false,
            "showline": true,
            "ticks": "outside",
            "zeroline": false,
            "zerolinecolor": "rgb(36,36,36)"
           }
          },
          "shapedefaults": {
           "fillcolor": "black",
           "line": {
            "width": 0
           },
           "opacity": 0.3
          },
          "ternary": {
           "aaxis": {
            "gridcolor": "rgb(232,232,232)",
            "linecolor": "rgb(36,36,36)",
            "showgrid": false,
            "showline": true,
            "ticks": "outside"
           },
           "baxis": {
            "gridcolor": "rgb(232,232,232)",
            "linecolor": "rgb(36,36,36)",
            "showgrid": false,
            "showline": true,
            "ticks": "outside"
           },
           "bgcolor": "white",
           "caxis": {
            "gridcolor": "rgb(232,232,232)",
            "linecolor": "rgb(36,36,36)",
            "showgrid": false,
            "showline": true,
            "ticks": "outside"
           }
          },
          "title": {
           "x": 0.05
          },
          "xaxis": {
           "automargin": true,
           "gridcolor": "rgb(232,232,232)",
           "linecolor": "rgb(36,36,36)",
           "showgrid": false,
           "showline": true,
           "ticks": "outside",
           "title": {
            "standoff": 15
           },
           "zeroline": false,
           "zerolinecolor": "rgb(36,36,36)"
          },
          "yaxis": {
           "automargin": true,
           "gridcolor": "rgb(232,232,232)",
           "linecolor": "rgb(36,36,36)",
           "showgrid": false,
           "showline": true,
           "ticks": "outside",
           "title": {
            "standoff": 15
           },
           "zeroline": false,
           "zerolinecolor": "rgb(36,36,36)"
          }
         }
        },
        "title": {
         "font": {
          "color": "Black",
          "size": 22
         },
         "text": "<b>Intertopic Distance Map</b>",
         "x": 0.5,
         "xanchor": "center",
         "y": 0.95,
         "yanchor": "top"
        },
        "width": 650,
        "xaxis": {
         "anchor": "y",
         "domain": [
          0,
          1
         ],
         "range": [
          -16.32706274986267,
          2.5611876368522646
         ],
         "title": {
          "text": ""
         },
         "visible": false
        },
        "yaxis": {
         "anchor": "x",
         "domain": [
          0,
          1
         ],
         "range": [
          0.2764324560761452,
          10.174033689498902
         ],
         "title": {
          "text": ""
         },
         "visible": false
        }
       }
      },
      "text/html": [
       "<div>                            <div id=\"a54ca6a3-7258-49ba-bf25-3fc7ff248100\" class=\"plotly-graph-div\" style=\"height:650px; width:650px;\"></div>            <script type=\"text/javascript\">                require([\"plotly\"], function(Plotly) {                    window.PLOTLYENV=window.PLOTLYENV || {};                                    if (document.getElementById(\"a54ca6a3-7258-49ba-bf25-3fc7ff248100\")) {                    Plotly.newPlot(                        \"a54ca6a3-7258-49ba-bf25-3fc7ff248100\",                        [{\"customdata\":[[0,\"robot | robots | ros | data | access\",276],[1,\"wifi | password | network | access | using\",175],[2,\"data | attacks | attack | access | dos\",125],[3,\"ros | master | nodes | ros master | ros network\",94],[4,\"construction | financial | excavators | excavator | construction site\",62],[5,\"lidar | sensor | data | sensors | sensor data\",58],[6,\"firmware | updates | update | software | firmware update\",22],[7,\"intrusion | intrusion detection | detection | suspicious | monitor\",20],[8,\"project | construction | advantage | competitive | gain\",19],[9,\"malware | images | image | steganography | hidden\",14]],\"hovertemplate\":\"<b>Topic %{customdata[0]}</b><br>%{customdata[1]}<br>Size: %{customdata[2]}\",\"legendgroup\":\"\",\"marker\":{\"color\":\"#B0BEC5\",\"size\":[276,175,125,94,62,58,22,20,19,14],\"sizemode\":\"area\",\"sizeref\":0.1725,\"symbol\":\"circle\",\"line\":{\"color\":\"DarkSlateGrey\",\"width\":2}},\"mode\":\"markers\",\"name\":\"\",\"orientation\":\"v\",\"showlegend\":false,\"x\":[1.9438308477401733,-13.224020957946777,-13.182123184204102,-12.762937545776367,-4.567066669464111,2.2271196842193604,-13.589150428771973,-14.1974458694458,-4.843719005584717,-13.65932846069336],\"xaxis\":\"x\",\"y\":[0.6084303259849548,8.703020095825195,7.34048318862915,7.752657413482666,3.777251958847046,0.3252146542072296,7.909502029418945,8.846985816955566,4.055036544799805,7.176239967346191],\"yaxis\":\"y\",\"type\":\"scatter\"}],                        {\"template\":{\"data\":{\"barpolar\":[{\"marker\":{\"line\":{\"color\":\"white\",\"width\":0.5},\"pattern\":{\"fillmode\":\"overlay\",\"size\":10,\"solidity\":0.2}},\"type\":\"barpolar\"}],\"bar\":[{\"error_x\":{\"color\":\"rgb(36,36,36)\"},\"error_y\":{\"color\":\"rgb(36,36,36)\"},\"marker\":{\"line\":{\"color\":\"white\",\"width\":0.5},\"pattern\":{\"fillmode\":\"overlay\",\"size\":10,\"solidity\":0.2}},\"type\":\"bar\"}],\"carpet\":[{\"aaxis\":{\"endlinecolor\":\"rgb(36,36,36)\",\"gridcolor\":\"white\",\"linecolor\":\"white\",\"minorgridcolor\":\"white\",\"startlinecolor\":\"rgb(36,36,36)\"},\"baxis\":{\"endlinecolor\":\"rgb(36,36,36)\",\"gridcolor\":\"white\",\"linecolor\":\"white\",\"minorgridcolor\":\"white\",\"startlinecolor\":\"rgb(36,36,36)\"},\"type\":\"carpet\"}],\"choropleth\":[{\"colorbar\":{\"outlinewidth\":1,\"tickcolor\":\"rgb(36,36,36)\",\"ticks\":\"outside\"},\"type\":\"choropleth\"}],\"contourcarpet\":[{\"colorbar\":{\"outlinewidth\":1,\"tickcolor\":\"rgb(36,36,36)\",\"ticks\":\"outside\"},\"type\":\"contourcarpet\"}],\"contour\":[{\"colorbar\":{\"outlinewidth\":1,\"tickcolor\":\"rgb(36,36,36)\",\"ticks\":\"outside\"},\"colorscale\":[[0.0,\"#440154\"],[0.1111111111111111,\"#482878\"],[0.2222222222222222,\"#3e4989\"],[0.3333333333333333,\"#31688e\"],[0.4444444444444444,\"#26828e\"],[0.5555555555555556,\"#1f9e89\"],[0.6666666666666666,\"#35b779\"],[0.7777777777777778,\"#6ece58\"],[0.8888888888888888,\"#b5de2b\"],[1.0,\"#fde725\"]],\"type\":\"contour\"}],\"heatmapgl\":[{\"colorbar\":{\"outlinewidth\":1,\"tickcolor\":\"rgb(36,36,36)\",\"ticks\":\"outside\"},\"colorscale\":[[0.0,\"#440154\"],[0.1111111111111111,\"#482878\"],[0.2222222222222222,\"#3e4989\"],[0.3333333333333333,\"#31688e\"],[0.4444444444444444,\"#26828e\"],[0.5555555555555556,\"#1f9e89\"],[0.6666666666666666,\"#35b779\"],[0.7777777777777778,\"#6ece58\"],[0.8888888888888888,\"#b5de2b\"],[1.0,\"#fde725\"]],\"type\":\"heatmapgl\"}],\"heatmap\":[{\"colorbar\":{\"outlinewidth\":1,\"tickcolor\":\"rgb(36,36,36)\",\"ticks\":\"outside\"},\"colorscale\":[[0.0,\"#440154\"],[0.1111111111111111,\"#482878\"],[0.2222222222222222,\"#3e4989\"],[0.3333333333333333,\"#31688e\"],[0.4444444444444444,\"#26828e\"],[0.5555555555555556,\"#1f9e89\"],[0.6666666666666666,\"#35b779\"],[0.7777777777777778,\"#6ece58\"],[0.8888888888888888,\"#b5de2b\"],[1.0,\"#fde725\"]],\"type\":\"heatmap\"}],\"histogram2dcontour\":[{\"colorbar\":{\"outlinewidth\":1,\"tickcolor\":\"rgb(36,36,36)\",\"ticks\":\"outside\"},\"colorscale\":[[0.0,\"#440154\"],[0.1111111111111111,\"#482878\"],[0.2222222222222222,\"#3e4989\"],[0.3333333333333333,\"#31688e\"],[0.4444444444444444,\"#26828e\"],[0.5555555555555556,\"#1f9e89\"],[0.6666666666666666,\"#35b779\"],[0.7777777777777778,\"#6ece58\"],[0.8888888888888888,\"#b5de2b\"],[1.0,\"#fde725\"]],\"type\":\"histogram2dcontour\"}],\"histogram2d\":[{\"colorbar\":{\"outlinewidth\":1,\"tickcolor\":\"rgb(36,36,36)\",\"ticks\":\"outside\"},\"colorscale\":[[0.0,\"#440154\"],[0.1111111111111111,\"#482878\"],[0.2222222222222222,\"#3e4989\"],[0.3333333333333333,\"#31688e\"],[0.4444444444444444,\"#26828e\"],[0.5555555555555556,\"#1f9e89\"],[0.6666666666666666,\"#35b779\"],[0.7777777777777778,\"#6ece58\"],[0.8888888888888888,\"#b5de2b\"],[1.0,\"#fde725\"]],\"type\":\"histogram2d\"}],\"histogram\":[{\"marker\":{\"line\":{\"color\":\"white\",\"width\":0.6}},\"type\":\"histogram\"}],\"mesh3d\":[{\"colorbar\":{\"outlinewidth\":1,\"tickcolor\":\"rgb(36,36,36)\",\"ticks\":\"outside\"},\"type\":\"mesh3d\"}],\"parcoords\":[{\"line\":{\"colorbar\":{\"outlinewidth\":1,\"tickcolor\":\"rgb(36,36,36)\",\"ticks\":\"outside\"}},\"type\":\"parcoords\"}],\"pie\":[{\"automargin\":true,\"type\":\"pie\"}],\"scatter3d\":[{\"line\":{\"colorbar\":{\"outlinewidth\":1,\"tickcolor\":\"rgb(36,36,36)\",\"ticks\":\"outside\"}},\"marker\":{\"colorbar\":{\"outlinewidth\":1,\"tickcolor\":\"rgb(36,36,36)\",\"ticks\":\"outside\"}},\"type\":\"scatter3d\"}],\"scattercarpet\":[{\"marker\":{\"colorbar\":{\"outlinewidth\":1,\"tickcolor\":\"rgb(36,36,36)\",\"ticks\":\"outside\"}},\"type\":\"scattercarpet\"}],\"scattergeo\":[{\"marker\":{\"colorbar\":{\"outlinewidth\":1,\"tickcolor\":\"rgb(36,36,36)\",\"ticks\":\"outside\"}},\"type\":\"scattergeo\"}],\"scattergl\":[{\"marker\":{\"colorbar\":{\"outlinewidth\":1,\"tickcolor\":\"rgb(36,36,36)\",\"ticks\":\"outside\"}},\"type\":\"scattergl\"}],\"scattermapbox\":[{\"marker\":{\"colorbar\":{\"outlinewidth\":1,\"tickcolor\":\"rgb(36,36,36)\",\"ticks\":\"outside\"}},\"type\":\"scattermapbox\"}],\"scatterpolargl\":[{\"marker\":{\"colorbar\":{\"outlinewidth\":1,\"tickcolor\":\"rgb(36,36,36)\",\"ticks\":\"outside\"}},\"type\":\"scatterpolargl\"}],\"scatterpolar\":[{\"marker\":{\"colorbar\":{\"outlinewidth\":1,\"tickcolor\":\"rgb(36,36,36)\",\"ticks\":\"outside\"}},\"type\":\"scatterpolar\"}],\"scatter\":[{\"fillpattern\":{\"fillmode\":\"overlay\",\"size\":10,\"solidity\":0.2},\"type\":\"scatter\"}],\"scatterternary\":[{\"marker\":{\"colorbar\":{\"outlinewidth\":1,\"tickcolor\":\"rgb(36,36,36)\",\"ticks\":\"outside\"}},\"type\":\"scatterternary\"}],\"surface\":[{\"colorbar\":{\"outlinewidth\":1,\"tickcolor\":\"rgb(36,36,36)\",\"ticks\":\"outside\"},\"colorscale\":[[0.0,\"#440154\"],[0.1111111111111111,\"#482878\"],[0.2222222222222222,\"#3e4989\"],[0.3333333333333333,\"#31688e\"],[0.4444444444444444,\"#26828e\"],[0.5555555555555556,\"#1f9e89\"],[0.6666666666666666,\"#35b779\"],[0.7777777777777778,\"#6ece58\"],[0.8888888888888888,\"#b5de2b\"],[1.0,\"#fde725\"]],\"type\":\"surface\"}],\"table\":[{\"cells\":{\"fill\":{\"color\":\"rgb(237,237,237)\"},\"line\":{\"color\":\"white\"}},\"header\":{\"fill\":{\"color\":\"rgb(217,217,217)\"},\"line\":{\"color\":\"white\"}},\"type\":\"table\"}]},\"layout\":{\"annotationdefaults\":{\"arrowhead\":0,\"arrowwidth\":1},\"autotypenumbers\":\"strict\",\"coloraxis\":{\"colorbar\":{\"outlinewidth\":1,\"tickcolor\":\"rgb(36,36,36)\",\"ticks\":\"outside\"}},\"colorscale\":{\"diverging\":[[0.0,\"rgb(103,0,31)\"],[0.1,\"rgb(178,24,43)\"],[0.2,\"rgb(214,96,77)\"],[0.3,\"rgb(244,165,130)\"],[0.4,\"rgb(253,219,199)\"],[0.5,\"rgb(247,247,247)\"],[0.6,\"rgb(209,229,240)\"],[0.7,\"rgb(146,197,222)\"],[0.8,\"rgb(67,147,195)\"],[0.9,\"rgb(33,102,172)\"],[1.0,\"rgb(5,48,97)\"]],\"sequential\":[[0.0,\"#440154\"],[0.1111111111111111,\"#482878\"],[0.2222222222222222,\"#3e4989\"],[0.3333333333333333,\"#31688e\"],[0.4444444444444444,\"#26828e\"],[0.5555555555555556,\"#1f9e89\"],[0.6666666666666666,\"#35b779\"],[0.7777777777777778,\"#6ece58\"],[0.8888888888888888,\"#b5de2b\"],[1.0,\"#fde725\"]],\"sequentialminus\":[[0.0,\"#440154\"],[0.1111111111111111,\"#482878\"],[0.2222222222222222,\"#3e4989\"],[0.3333333333333333,\"#31688e\"],[0.4444444444444444,\"#26828e\"],[0.5555555555555556,\"#1f9e89\"],[0.6666666666666666,\"#35b779\"],[0.7777777777777778,\"#6ece58\"],[0.8888888888888888,\"#b5de2b\"],[1.0,\"#fde725\"]]},\"colorway\":[\"#1F77B4\",\"#FF7F0E\",\"#2CA02C\",\"#D62728\",\"#9467BD\",\"#8C564B\",\"#E377C2\",\"#7F7F7F\",\"#BCBD22\",\"#17BECF\"],\"font\":{\"color\":\"rgb(36,36,36)\"},\"geo\":{\"bgcolor\":\"white\",\"lakecolor\":\"white\",\"landcolor\":\"white\",\"showlakes\":true,\"showland\":true,\"subunitcolor\":\"white\"},\"hoverlabel\":{\"align\":\"left\"},\"hovermode\":\"closest\",\"mapbox\":{\"style\":\"light\"},\"paper_bgcolor\":\"white\",\"plot_bgcolor\":\"white\",\"polar\":{\"angularaxis\":{\"gridcolor\":\"rgb(232,232,232)\",\"linecolor\":\"rgb(36,36,36)\",\"showgrid\":false,\"showline\":true,\"ticks\":\"outside\"},\"bgcolor\":\"white\",\"radialaxis\":{\"gridcolor\":\"rgb(232,232,232)\",\"linecolor\":\"rgb(36,36,36)\",\"showgrid\":false,\"showline\":true,\"ticks\":\"outside\"}},\"scene\":{\"xaxis\":{\"backgroundcolor\":\"white\",\"gridcolor\":\"rgb(232,232,232)\",\"gridwidth\":2,\"linecolor\":\"rgb(36,36,36)\",\"showbackground\":true,\"showgrid\":false,\"showline\":true,\"ticks\":\"outside\",\"zeroline\":false,\"zerolinecolor\":\"rgb(36,36,36)\"},\"yaxis\":{\"backgroundcolor\":\"white\",\"gridcolor\":\"rgb(232,232,232)\",\"gridwidth\":2,\"linecolor\":\"rgb(36,36,36)\",\"showbackground\":true,\"showgrid\":false,\"showline\":true,\"ticks\":\"outside\",\"zeroline\":false,\"zerolinecolor\":\"rgb(36,36,36)\"},\"zaxis\":{\"backgroundcolor\":\"white\",\"gridcolor\":\"rgb(232,232,232)\",\"gridwidth\":2,\"linecolor\":\"rgb(36,36,36)\",\"showbackground\":true,\"showgrid\":false,\"showline\":true,\"ticks\":\"outside\",\"zeroline\":false,\"zerolinecolor\":\"rgb(36,36,36)\"}},\"shapedefaults\":{\"fillcolor\":\"black\",\"line\":{\"width\":0},\"opacity\":0.3},\"ternary\":{\"aaxis\":{\"gridcolor\":\"rgb(232,232,232)\",\"linecolor\":\"rgb(36,36,36)\",\"showgrid\":false,\"showline\":true,\"ticks\":\"outside\"},\"baxis\":{\"gridcolor\":\"rgb(232,232,232)\",\"linecolor\":\"rgb(36,36,36)\",\"showgrid\":false,\"showline\":true,\"ticks\":\"outside\"},\"bgcolor\":\"white\",\"caxis\":{\"gridcolor\":\"rgb(232,232,232)\",\"linecolor\":\"rgb(36,36,36)\",\"showgrid\":false,\"showline\":true,\"ticks\":\"outside\"}},\"title\":{\"x\":0.05},\"xaxis\":{\"automargin\":true,\"gridcolor\":\"rgb(232,232,232)\",\"linecolor\":\"rgb(36,36,36)\",\"showgrid\":false,\"showline\":true,\"ticks\":\"outside\",\"title\":{\"standoff\":15},\"zeroline\":false,\"zerolinecolor\":\"rgb(36,36,36)\"},\"yaxis\":{\"automargin\":true,\"gridcolor\":\"rgb(232,232,232)\",\"linecolor\":\"rgb(36,36,36)\",\"showgrid\":false,\"showline\":true,\"ticks\":\"outside\",\"title\":{\"standoff\":15},\"zeroline\":false,\"zerolinecolor\":\"rgb(36,36,36)\"}}},\"xaxis\":{\"anchor\":\"y\",\"domain\":[0.0,1.0],\"title\":{\"text\":\"\"},\"visible\":false,\"range\":[-16.32706274986267,2.5611876368522646]},\"yaxis\":{\"anchor\":\"x\",\"domain\":[0.0,1.0],\"title\":{\"text\":\"\"},\"visible\":false,\"range\":[0.2764324560761452,10.174033689498902]},\"legend\":{\"tracegroupgap\":0,\"itemsizing\":\"constant\"},\"margin\":{\"t\":60},\"title\":{\"font\":{\"size\":22,\"color\":\"Black\"},\"text\":\"<b>Intertopic Distance Map</b>\",\"y\":0.95,\"x\":0.5,\"xanchor\":\"center\",\"yanchor\":\"top\"},\"hoverlabel\":{\"font\":{\"size\":16,\"family\":\"Rockwell\"},\"bgcolor\":\"white\"},\"width\":650,\"height\":650,\"sliders\":[{\"active\":0,\"pad\":{\"t\":50},\"steps\":[{\"args\":[{\"marker.color\":[[\"red\",\"#B0BEC5\",\"#B0BEC5\",\"#B0BEC5\",\"#B0BEC5\",\"#B0BEC5\",\"#B0BEC5\",\"#B0BEC5\",\"#B0BEC5\",\"#B0BEC5\"]]}],\"label\":\"Topic 0\",\"method\":\"update\"},{\"args\":[{\"marker.color\":[[\"#B0BEC5\",\"red\",\"#B0BEC5\",\"#B0BEC5\",\"#B0BEC5\",\"#B0BEC5\",\"#B0BEC5\",\"#B0BEC5\",\"#B0BEC5\",\"#B0BEC5\"]]}],\"label\":\"Topic 1\",\"method\":\"update\"},{\"args\":[{\"marker.color\":[[\"#B0BEC5\",\"#B0BEC5\",\"red\",\"#B0BEC5\",\"#B0BEC5\",\"#B0BEC5\",\"#B0BEC5\",\"#B0BEC5\",\"#B0BEC5\",\"#B0BEC5\"]]}],\"label\":\"Topic 2\",\"method\":\"update\"},{\"args\":[{\"marker.color\":[[\"#B0BEC5\",\"#B0BEC5\",\"#B0BEC5\",\"red\",\"#B0BEC5\",\"#B0BEC5\",\"#B0BEC5\",\"#B0BEC5\",\"#B0BEC5\",\"#B0BEC5\"]]}],\"label\":\"Topic 3\",\"method\":\"update\"},{\"args\":[{\"marker.color\":[[\"#B0BEC5\",\"#B0BEC5\",\"#B0BEC5\",\"#B0BEC5\",\"red\",\"#B0BEC5\",\"#B0BEC5\",\"#B0BEC5\",\"#B0BEC5\",\"#B0BEC5\"]]}],\"label\":\"Topic 4\",\"method\":\"update\"},{\"args\":[{\"marker.color\":[[\"#B0BEC5\",\"#B0BEC5\",\"#B0BEC5\",\"#B0BEC5\",\"#B0BEC5\",\"red\",\"#B0BEC5\",\"#B0BEC5\",\"#B0BEC5\",\"#B0BEC5\"]]}],\"label\":\"Topic 5\",\"method\":\"update\"},{\"args\":[{\"marker.color\":[[\"#B0BEC5\",\"#B0BEC5\",\"#B0BEC5\",\"#B0BEC5\",\"#B0BEC5\",\"#B0BEC5\",\"red\",\"#B0BEC5\",\"#B0BEC5\",\"#B0BEC5\"]]}],\"label\":\"Topic 6\",\"method\":\"update\"},{\"args\":[{\"marker.color\":[[\"#B0BEC5\",\"#B0BEC5\",\"#B0BEC5\",\"#B0BEC5\",\"#B0BEC5\",\"#B0BEC5\",\"#B0BEC5\",\"red\",\"#B0BEC5\",\"#B0BEC5\"]]}],\"label\":\"Topic 7\",\"method\":\"update\"},{\"args\":[{\"marker.color\":[[\"#B0BEC5\",\"#B0BEC5\",\"#B0BEC5\",\"#B0BEC5\",\"#B0BEC5\",\"#B0BEC5\",\"#B0BEC5\",\"#B0BEC5\",\"red\",\"#B0BEC5\"]]}],\"label\":\"Topic 8\",\"method\":\"update\"},{\"args\":[{\"marker.color\":[[\"#B0BEC5\",\"#B0BEC5\",\"#B0BEC5\",\"#B0BEC5\",\"#B0BEC5\",\"#B0BEC5\",\"#B0BEC5\",\"#B0BEC5\",\"#B0BEC5\",\"red\"]]}],\"label\":\"Topic 9\",\"method\":\"update\"}]}],\"shapes\":[{\"line\":{\"color\":\"#CFD8DC\",\"width\":2},\"type\":\"line\",\"x0\":-6.882937556505203,\"x1\":-6.882937556505203,\"y0\":0.2764324560761452,\"y1\":10.174033689498902},{\"line\":{\"color\":\"#9E9E9E\",\"width\":2},\"type\":\"line\",\"x0\":-16.32706274986267,\"x1\":2.5611876368522646,\"y0\":5.225233072787524,\"y1\":5.225233072787524}],\"annotations\":[{\"showarrow\":false,\"text\":\"D1\",\"x\":-16.32706274986267,\"y\":5.225233072787524,\"yshift\":10},{\"showarrow\":false,\"text\":\"D2\",\"x\":-6.882937556505203,\"xshift\":10,\"y\":10.174033689498902}]},                        {\"responsive\": true}                    ).then(function(){\n",
       "                            \n",
       "var gd = document.getElementById('a54ca6a3-7258-49ba-bf25-3fc7ff248100');\n",
       "var x = new MutationObserver(function (mutations, observer) {{\n",
       "        var display = window.getComputedStyle(gd).display;\n",
       "        if (!display || display === 'none') {{\n",
       "            console.log([gd, 'removed!']);\n",
       "            Plotly.purge(gd);\n",
       "            observer.disconnect();\n",
       "        }}\n",
       "}});\n",
       "\n",
       "// Listen for the removal of the full notebook cells\n",
       "var notebookContainer = gd.closest('#notebook-container');\n",
       "if (notebookContainer) {{\n",
       "    x.observe(notebookContainer, {childList: true});\n",
       "}}\n",
       "\n",
       "// Listen for the clearing of the current output cell\n",
       "var outputEl = gd.closest('.output');\n",
       "if (outputEl) {{\n",
       "    x.observe(outputEl, {childList: true});\n",
       "}}\n",
       "\n",
       "                        })                };                });            </script>        </div>"
      ]
     },
     "metadata": {},
     "output_type": "display_data"
    }
   ],
   "source": [
    "fig = model.visualize_topics()\n",
    "fig.write_html(\"./intertopic_distance.html\")\n",
    "\n",
    "model.visualize_topics()"
   ]
  },
  {
   "cell_type": "markdown",
   "id": "840b9166",
   "metadata": {},
   "source": [
    "# Generating topic labels and summaries using LLMs"
   ]
  },
  {
   "cell_type": "code",
   "execution_count": 70,
   "id": "15d06f45",
   "metadata": {},
   "outputs": [
    {
     "name": "stdout",
     "output_type": "stream",
     "text": [
      "Topic 0: **Label: Security Vulnerabilities in Robot Operating Systems**\n",
      "\n",
      "**Summary:**\n",
      "This topic explores various security threats and vulnerabilities within Robot Operating Systems (ROS) that could compromise robotic operations. Key vulnerabilities include the exploitation of weak authentication, buffer overflow attacks, and data integrity attacks through unauthorized access and message tampering. Attackers can manipulate ROS by introducing rogue nodes, intercepting sensor data, or conducting Denial of Service (DOS) and Man In The Middle (MITM) attacks. These security breaches can lead to incorrect robot navigation, unauthorized control, and potential mission failures, emphasizing the need for robust security measures in robotic systems.\n",
      "\n",
      "---------\n",
      "\n",
      "Topic 1: **Label: Wireless Network Hacking Techniques**\n",
      "\n",
      "**Summary:**\n",
      "This topic explores various wireless network hacking techniques using tools from the Kali Linux suite, such as Airodump-NG and Airgeddon. The hacking methods are categorized into three main stages: Pre-Connection Attacks, Gaining Access, and Post-Connection Attacks. Pre-Connection Attacks involve monitoring and capturing data packets without connecting to the network, including activities like packet sniffing and deauthentication attacks. Gaining Access focuses on methods to breach network security, potentially involving cracking passwords to establish a connection. Post-Connection Attacks occur once access is gained, enabling further exploits such as Man in The Middle attacks and unauthorized SSH connections. These techniques highlight the importance of understanding network security to protect against unauthorized access and data breaches.\n",
      "\n",
      "---------\n",
      "\n",
      "Topic 2: **Label: Network Security and Vulnerability to DoS Attacks**\n",
      "\n",
      "**Summary:**\n",
      "This topic explores various forms of network security breaches, particularly focusing on Denial-of-Service (DoS) attacks. It highlights how SYN flooding attacks exploit the TCP three-way handshake to overwhelm ROS servers, causing them to crash due to excessive, unresponded connection requests. Additionally, the topic covers other attack vectors like brute force, dictionary, and man-in-the-middle attacks that threaten router security by attempting to steal authentication credentials. It also discusses DNS spoofing and rogue access points that can alter transmitted data, undermining data integrity. The vulnerability of network architecture to such attacks is emphasized, with potential threats including botnet assaults and exploitation of protocol weaknesses that can lead to significant disruptions in network operations.\n",
      "\n",
      "---------\n",
      "\n",
      "Topic 3: **Label:** Security Vulnerabilities in ROS Network Communication\n",
      "\n",
      "**Summary:** The topic discusses the security vulnerabilities inherent in the Robot Operating System (ROS) network, particularly focusing on the ROS Master's role and the authentication process. The ROS network is structured into three levels: the ROS graph, file system, and community, with the ROS Master facilitating communication between nodes. A significant security concern highlighted is the lack of robust authentication mechanisms; nodes can connect to the ROS Master using just an IP address without needing a password or access token. This vulnerability could potentially destabilize the entire ROS network if the ROS Master is compromised, as it manages all node communications and topic subscriptions.\n",
      "\n",
      "---------\n",
      "\n",
      "Topic 4: **Label:** Impact of Compromising Autonomous Excavators in Construction\n",
      "\n",
      "**Summary:** The topic explores the severe repercussions of compromising autonomous excavators at construction sites. Key concerns include safety risks such as accidents and potential fatalities, operational disruptions leading to project delays and increased costs, and financial and reputational damage to the involved companies. The motivation behind such actions is often to benefit competing firms by causing financial strain and damaging the reputation of the targeted companies. This situation not only affects the immediate safety and financial standing but also leads to broader contractual and legal issues, impacting the overall operations and strategic plans of the companies involved.\n",
      "\n",
      "---------\n",
      "\n",
      "Topic 5: **Label:** LiDAR Sensor Security and Data Integrity\n",
      "\n",
      "**Summary:** This topic focuses on the security vulnerabilities and protection mechanisms associated with LiDAR sensors, which are crucial in robotic navigation systems. It highlights the risks of sensor IP spoofing, where attackers manipulate sensor data, such as that from LiDAR, to inject false information, leading to navigation errors or even Denial of Service (DoS) attacks by overwhelming the sensors with fake requests. The scenario discussed involves exploiting network connections to manipulate LiDAR data, misleading robotic operations. To counteract these threats, the implementation of data validation and sensor data encryption is emphasized. Data validation helps in detecting and rejecting any anomalous sensor data, thereby preserving the integrity and reliability of the sensor outputs essential for robotic accuracy and safety.\n",
      "\n",
      "---------\n",
      "\n",
      "Topic 6: **Label:** Enhancing Security in Firmware and Software Updates\n",
      "\n",
      "**Summary:** This topic emphasizes the importance of maintaining robust security measures during firmware and software updates, particularly for devices like the Raspberry Pi. Regular updates are crucial for patching vulnerabilities, and using secure protocols during these updates is essential to prevent attacks such as Man-in-the-Middle (MitM), which can compromise the integrity of the firmware. The Raspberry Pi Foundation recommends using the `rpi-update` tool for fetching and applying firmware updates securely from the official repository. Strengthening the update process through robust encryption and regular application of security patches is advised to protect against potential threats.\n",
      "\n",
      "---------\n",
      "\n",
      "Topic 7: **Label: Network Security: Intrusion Detection and Prevention Systems**\n",
      "\n",
      "**Summary:**\n",
      "This topic focuses on the critical role of intrusion detection systems (IDS) and intrusion prevention systems (IPS) in network security. These systems are essential for monitoring network traffic to identify and respond to suspicious activities, including potential Denial-of-Service (DoS) attacks. The documents emphasize the deployment of both IDS and IPS to enhance security measures, alongside the use of application-layer firewalls that inspect traffic at the application level. The overall goal is to safeguard networks from unauthorized access and threats by continuously monitoring and managing network traffic.\n",
      "\n",
      "---------\n",
      "\n",
      "Topic 8: **Label:** Sabotage and Espionage in the Construction Industry\n",
      "\n",
      "**Summary:** This topic explores the risks of sabotage and espionage within the construction industry, focusing on the malicious activities of rival companies. Competitors may attempt to compromise robotic systems used in construction to disrupt operations, delay projects, and steal proprietary information. Such actions aim to tarnish a company's reputation, influence contract negotiations, and provide the perpetrator with a competitive edge. The consequences include financial losses due to project delays, theft of data, and potentially the loss of valuable equipment and materials. This form of industrial espionage is particularly concerning when projects have strategic significance, as the theft of advanced technology or sensitive project plans can have far-reaching impacts on the targeted company.\n",
      "\n",
      "---------\n",
      "\n",
      "Topic 9: **Label: Malware Hidden in Images through Steganography**\n",
      "\n",
      "**Summary:**\n",
      "This topic explores the concept of embedding malware within images using steganography, a technique that conceals data within other files or images. The documents discuss how two seemingly identical images can be analyzed to reveal hidden malicious software. This malware is particularly dangerous as it can remain dormant, activating only under specific conditions, which makes it difficult to detect and manage. The discussion emphasizes the challenges in identifying such threats and the implications for computer security.\n",
      "\n",
      "---------\n",
      "\n"
     ]
    }
   ],
   "source": [
    "# This code includes GPT-4 by OpenAI as the LLM to generate labels and summaries for different topics\n",
    "# Provide the OpenAI API key\n",
    "config = configparser.ConfigParser()\n",
    "config.read('config.ini') # The API key was stored in a configuration file to preserve confidentiality\n",
    "api_key = config['DEFAULT']['OPENAI_API_KEY']\n",
    "\n",
    "# Define the client for the OpenAI API\n",
    "client = OpenAI(api_key=api_key)\n",
    "\n",
    "# Retrieve the final list of topics after the screening\n",
    "final_topics = model.get_topics()\n",
    "\n",
    "# Retrieve the representative documents for the final list of topics after the screening\n",
    "representative_docs = model.get_representative_docs()\n",
    "\n",
    "# Retrieve the unique, existing topic IDs, excluding any outliers\n",
    "unique_topics = set(final_topics.keys()) - {-1}\n",
    "\n",
    "# Prepare to store results\n",
    "topic_labels = []\n",
    "topic_documents = {}\n",
    "\n",
    "# Process each unique topic identified\n",
    "for topic_id in unique_topics:\n",
    "    # Get the keywords for the topic\n",
    "    keywords = model.get_topic(topic_id)\n",
    "    if keywords is None or not keywords:\n",
    "        print(f\"No keywords found for topic {topic_id}. Skipping.\")\n",
    "        continue\n",
    "    keyword_list = ', '.join([f\"{word} ({weight:.2f})\" for word, weight in keywords])\n",
    "\n",
    "    # Fetch representative documents using BERTopic's method\n",
    "    if topic_id in representative_docs and representative_docs[topic_id]:\n",
    "        representative_docs_per_topic = '\\n\\n'.join(representative_docs[topic_id])\n",
    "    else:\n",
    "        print(f\"No representative documents found for topic {topic_id}. Skipping.\")\n",
    "        continue\n",
    "\n",
    "    # Create the prompt for GPT-4\n",
    "    prompt = f\"\"\"\n",
    "    I have a topic that contains the following representative documents: \\n{representative_docs_per_topic}\n",
    "    The topic is described by the following keywords: {keyword_list}\n",
    "\n",
    "    Can you summarize this topic with a label and a short paragraph?\n",
    "    \"\"\"\n",
    "\n",
    "    # Send the prompt to GPT-4\n",
    "    response = client.chat.completions.create(\n",
    "        messages=[\n",
    "            {\"role\": \"user\", \"content\": prompt}\n",
    "        ],\n",
    "        model=\"gpt-4-turbo\",\n",
    "        max_tokens=200,\n",
    "        temperature=0 # The temperature parameter was set to 0 to make the output \n",
    "                      # as deterministic and reproducible as possible\n",
    "    )\n",
    "\n",
    "    # Extract the topic label suggested by GPT-4\n",
    "    topic_label = response.choices[0].message.content.strip()\n",
    "    topic_labels.append((topic_id, keyword_list, representative_docs_per_topic, topic_label))\n",
    "    print(f\"Topic {topic_id}: {topic_label}\")\n",
    "    print(\"\\n---------\\n\")"
   ]
  },
  {
   "cell_type": "code",
   "execution_count": 71,
   "id": "2e5a7c2f",
   "metadata": {},
   "outputs": [
    {
     "name": "stdout",
     "output_type": "stream",
     "text": [
      "Labels and summaries saved to 'topic_labels_and_summaries_by_GPT.csv'.\n"
     ]
    }
   ],
   "source": [
    "# Save the results to a DataFrame and then to a CSV file\n",
    "df_labels = pd.DataFrame(topic_labels, columns=['Topic ID', 'Keywords', 'Representative Documents', 'Label'])\n",
    "df_labels.to_csv('topic_labels_and_summaries_by_GPT.csv', index=False)\n",
    "print(\"Labels and summaries saved to 'topic_labels_and_summaries_by_GPT.csv'.\")"
   ]
  }
 ],
 "metadata": {
  "kernelspec": {
   "display_name": "Python 3 (ipykernel)",
   "language": "python",
   "name": "python3"
  },
  "language_info": {
   "codemirror_mode": {
    "name": "ipython",
    "version": 3
   },
   "file_extension": ".py",
   "mimetype": "text/x-python",
   "name": "python",
   "nbconvert_exporter": "python",
   "pygments_lexer": "ipython3",
   "version": "3.11.7"
  }
 },
 "nbformat": 4,
 "nbformat_minor": 5
}
